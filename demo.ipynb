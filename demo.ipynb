{
  "nbformat": 4,
  "nbformat_minor": 0,
  "metadata": {
    "colab": {
      "name": "text-classification-keras-lstm-chinese.ipynb",
      "version": "0.3.2",
      "provenance": [],
      "collapsed_sections": []
    },
    "kernelspec": {
      "name": "python3",
      "display_name": "Python 3"
    },
    "accelerator": "TPU"
  },
  "cells": [
    {
      "metadata": {
        "id": "68JkPB8NbKzX",
        "colab_type": "code",
        "colab": {}
      },
      "cell_type": "code",
      "source": [
        "import pandas as pd"
      ],
      "execution_count": 0,
      "outputs": []
    },
    {
      "metadata": {
        "id": "Q64Q-on4jJlt",
        "colab_type": "code",
        "colab": {}
      },
      "cell_type": "code",
      "source": [
        "df = pd.read_csv('data.csv', encoding='gb18030')"
      ],
      "execution_count": 0,
      "outputs": []
    },
    {
      "metadata": {
        "id": "DCOrNFKLjL6S",
        "colab_type": "code",
        "colab": {
          "base_uri": "https://localhost:8080/",
          "height": 202
        },
        "outputId": "64f1f961-3d5e-40eb-b530-c5b6ab94afec"
      },
      "cell_type": "code",
      "source": [
        "df.head()"
      ],
      "execution_count": 26,
      "outputs": [
        {
          "output_type": "execute_result",
          "data": {
            "text/html": [
              "<div>\n",
              "<style scoped>\n",
              "    .dataframe tbody tr th:only-of-type {\n",
              "        vertical-align: middle;\n",
              "    }\n",
              "\n",
              "    .dataframe tbody tr th {\n",
              "        vertical-align: top;\n",
              "    }\n",
              "\n",
              "    .dataframe thead th {\n",
              "        text-align: right;\n",
              "    }\n",
              "</style>\n",
              "<table border=\"1\" class=\"dataframe\">\n",
              "  <thead>\n",
              "    <tr style=\"text-align: right;\">\n",
              "      <th></th>\n",
              "      <th>comment</th>\n",
              "      <th>star</th>\n",
              "    </tr>\n",
              "  </thead>\n",
              "  <tbody>\n",
              "    <tr>\n",
              "      <th>0</th>\n",
              "      <td>口味：不知道是我口高了，还是这家真不怎么样。 我感觉口味确实很一般很一般。上菜相当快，我敢说...</td>\n",
              "      <td>2</td>\n",
              "    </tr>\n",
              "    <tr>\n",
              "      <th>1</th>\n",
              "      <td>菜品丰富质量好，服务也不错！很喜欢！</td>\n",
              "      <td>4</td>\n",
              "    </tr>\n",
              "    <tr>\n",
              "      <th>2</th>\n",
              "      <td>说真的，不晓得有人排队的理由，香精香精香精香精，拜拜！</td>\n",
              "      <td>2</td>\n",
              "    </tr>\n",
              "    <tr>\n",
              "      <th>3</th>\n",
              "      <td>菜量实惠，上菜还算比较快，疙瘩汤喝出了秋日的暖意，烧茄子吃出了大阪烧的味道，想吃土豆片也是口...</td>\n",
              "      <td>5</td>\n",
              "    </tr>\n",
              "    <tr>\n",
              "      <th>4</th>\n",
              "      <td>先说我算是娜娜家风荷园开业就一直在这里吃 每次出去回来总想吃一回 有时觉得外面的西式简餐总是...</td>\n",
              "      <td>4</td>\n",
              "    </tr>\n",
              "  </tbody>\n",
              "</table>\n",
              "</div>"
            ],
            "text/plain": [
              "                                             comment  star\n",
              "0  口味：不知道是我口高了，还是这家真不怎么样。 我感觉口味确实很一般很一般。上菜相当快，我敢说...     2\n",
              "1                                 菜品丰富质量好，服务也不错！很喜欢！     4\n",
              "2                        说真的，不晓得有人排队的理由，香精香精香精香精，拜拜！     2\n",
              "3  菜量实惠，上菜还算比较快，疙瘩汤喝出了秋日的暖意，烧茄子吃出了大阪烧的味道，想吃土豆片也是口...     5\n",
              "4  先说我算是娜娜家风荷园开业就一直在这里吃 每次出去回来总想吃一回 有时觉得外面的西式简餐总是...     4"
            ]
          },
          "metadata": {
            "tags": []
          },
          "execution_count": 26
        }
      ]
    },
    {
      "metadata": {
        "id": "TfgdiASEjQxR",
        "colab_type": "code",
        "colab": {}
      },
      "cell_type": "code",
      "source": [
        "df[\"sentiment\"] = df.star.apply(lambda x: 1 if x>3 else 0)"
      ],
      "execution_count": 0,
      "outputs": []
    },
    {
      "metadata": {
        "id": "PmaiRJO7jijU",
        "colab_type": "code",
        "colab": {
          "base_uri": "https://localhost:8080/",
          "height": 191
        },
        "outputId": "bb20a667-bf2e-4e31-86ac-3f940a0e00c9"
      },
      "cell_type": "code",
      "source": [
        "df.sentiment.describe()"
      ],
      "execution_count": 28,
      "outputs": [
        {
          "output_type": "execute_result",
          "data": {
            "text/plain": [
              "count    2000.000000\n",
              "mean        0.500000\n",
              "std         0.500125\n",
              "min         0.000000\n",
              "25%         0.000000\n",
              "50%         0.500000\n",
              "75%         1.000000\n",
              "max         1.000000\n",
              "Name: sentiment, dtype: float64"
            ]
          },
          "metadata": {
            "tags": []
          },
          "execution_count": 28
        }
      ]
    },
    {
      "metadata": {
        "id": "gTVJPCEgjkdO",
        "colab_type": "code",
        "colab": {
          "base_uri": "https://localhost:8080/",
          "height": 202
        },
        "outputId": "163d85f7-b994-4135-f586-2759b5964354"
      },
      "cell_type": "code",
      "source": [
        "df.head()"
      ],
      "execution_count": 29,
      "outputs": [
        {
          "output_type": "execute_result",
          "data": {
            "text/html": [
              "<div>\n",
              "<style scoped>\n",
              "    .dataframe tbody tr th:only-of-type {\n",
              "        vertical-align: middle;\n",
              "    }\n",
              "\n",
              "    .dataframe tbody tr th {\n",
              "        vertical-align: top;\n",
              "    }\n",
              "\n",
              "    .dataframe thead th {\n",
              "        text-align: right;\n",
              "    }\n",
              "</style>\n",
              "<table border=\"1\" class=\"dataframe\">\n",
              "  <thead>\n",
              "    <tr style=\"text-align: right;\">\n",
              "      <th></th>\n",
              "      <th>comment</th>\n",
              "      <th>star</th>\n",
              "      <th>sentiment</th>\n",
              "    </tr>\n",
              "  </thead>\n",
              "  <tbody>\n",
              "    <tr>\n",
              "      <th>0</th>\n",
              "      <td>口味：不知道是我口高了，还是这家真不怎么样。 我感觉口味确实很一般很一般。上菜相当快，我敢说...</td>\n",
              "      <td>2</td>\n",
              "      <td>0</td>\n",
              "    </tr>\n",
              "    <tr>\n",
              "      <th>1</th>\n",
              "      <td>菜品丰富质量好，服务也不错！很喜欢！</td>\n",
              "      <td>4</td>\n",
              "      <td>1</td>\n",
              "    </tr>\n",
              "    <tr>\n",
              "      <th>2</th>\n",
              "      <td>说真的，不晓得有人排队的理由，香精香精香精香精，拜拜！</td>\n",
              "      <td>2</td>\n",
              "      <td>0</td>\n",
              "    </tr>\n",
              "    <tr>\n",
              "      <th>3</th>\n",
              "      <td>菜量实惠，上菜还算比较快，疙瘩汤喝出了秋日的暖意，烧茄子吃出了大阪烧的味道，想吃土豆片也是口...</td>\n",
              "      <td>5</td>\n",
              "      <td>1</td>\n",
              "    </tr>\n",
              "    <tr>\n",
              "      <th>4</th>\n",
              "      <td>先说我算是娜娜家风荷园开业就一直在这里吃 每次出去回来总想吃一回 有时觉得外面的西式简餐总是...</td>\n",
              "      <td>4</td>\n",
              "      <td>1</td>\n",
              "    </tr>\n",
              "  </tbody>\n",
              "</table>\n",
              "</div>"
            ],
            "text/plain": [
              "                                             comment  star  sentiment\n",
              "0  口味：不知道是我口高了，还是这家真不怎么样。 我感觉口味确实很一般很一般。上菜相当快，我敢说...     2          0\n",
              "1                                 菜品丰富质量好，服务也不错！很喜欢！     4          1\n",
              "2                        说真的，不晓得有人排队的理由，香精香精香精香精，拜拜！     2          0\n",
              "3  菜量实惠，上菜还算比较快，疙瘩汤喝出了秋日的暖意，烧茄子吃出了大阪烧的味道，想吃土豆片也是口...     5          1\n",
              "4  先说我算是娜娜家风荷园开业就一直在这里吃 每次出去回来总想吃一回 有时觉得外面的西式简餐总是...     4          1"
            ]
          },
          "metadata": {
            "tags": []
          },
          "execution_count": 29
        }
      ]
    },
    {
      "metadata": {
        "id": "CWGBqCDhju6_",
        "colab_type": "code",
        "colab": {}
      },
      "cell_type": "code",
      "source": [
        "df.drop('star', axis=1, inplace=True)"
      ],
      "execution_count": 0,
      "outputs": []
    },
    {
      "metadata": {
        "id": "q3z4AOyWjxye",
        "colab_type": "code",
        "colab": {}
      },
      "cell_type": "code",
      "source": [
        "df.to_csv('dianping.csv', encoding='gb18030', index=None)"
      ],
      "execution_count": 0,
      "outputs": []
    },
    {
      "metadata": {
        "id": "VfiCdQpIj7PL",
        "colab_type": "code",
        "colab": {}
      },
      "cell_type": "code",
      "source": [
        "df = pd.read_csv('dianping.csv', encoding='gb18030')"
      ],
      "execution_count": 0,
      "outputs": []
    },
    {
      "metadata": {
        "id": "ENeThW2vkeEp",
        "colab_type": "code",
        "colab": {
          "base_uri": "https://localhost:8080/",
          "height": 202
        },
        "outputId": "1cde4c59-7069-41cd-b0dc-2d1181bf059f"
      },
      "cell_type": "code",
      "source": [
        "df.head()"
      ],
      "execution_count": 49,
      "outputs": [
        {
          "output_type": "execute_result",
          "data": {
            "text/html": [
              "<div>\n",
              "<style scoped>\n",
              "    .dataframe tbody tr th:only-of-type {\n",
              "        vertical-align: middle;\n",
              "    }\n",
              "\n",
              "    .dataframe tbody tr th {\n",
              "        vertical-align: top;\n",
              "    }\n",
              "\n",
              "    .dataframe thead th {\n",
              "        text-align: right;\n",
              "    }\n",
              "</style>\n",
              "<table border=\"1\" class=\"dataframe\">\n",
              "  <thead>\n",
              "    <tr style=\"text-align: right;\">\n",
              "      <th></th>\n",
              "      <th>comment</th>\n",
              "      <th>sentiment</th>\n",
              "    </tr>\n",
              "  </thead>\n",
              "  <tbody>\n",
              "    <tr>\n",
              "      <th>0</th>\n",
              "      <td>口味：不知道是我口高了，还是这家真不怎么样。 我感觉口味确实很一般很一般。上菜相当快，我敢说...</td>\n",
              "      <td>0</td>\n",
              "    </tr>\n",
              "    <tr>\n",
              "      <th>1</th>\n",
              "      <td>菜品丰富质量好，服务也不错！很喜欢！</td>\n",
              "      <td>1</td>\n",
              "    </tr>\n",
              "    <tr>\n",
              "      <th>2</th>\n",
              "      <td>说真的，不晓得有人排队的理由，香精香精香精香精，拜拜！</td>\n",
              "      <td>0</td>\n",
              "    </tr>\n",
              "    <tr>\n",
              "      <th>3</th>\n",
              "      <td>菜量实惠，上菜还算比较快，疙瘩汤喝出了秋日的暖意，烧茄子吃出了大阪烧的味道，想吃土豆片也是口...</td>\n",
              "      <td>1</td>\n",
              "    </tr>\n",
              "    <tr>\n",
              "      <th>4</th>\n",
              "      <td>先说我算是娜娜家风荷园开业就一直在这里吃 每次出去回来总想吃一回 有时觉得外面的西式简餐总是...</td>\n",
              "      <td>1</td>\n",
              "    </tr>\n",
              "  </tbody>\n",
              "</table>\n",
              "</div>"
            ],
            "text/plain": [
              "                                             comment  sentiment\n",
              "0  口味：不知道是我口高了，还是这家真不怎么样。 我感觉口味确实很一般很一般。上菜相当快，我敢说...          0\n",
              "1                                 菜品丰富质量好，服务也不错！很喜欢！          1\n",
              "2                        说真的，不晓得有人排队的理由，香精香精香精香精，拜拜！          0\n",
              "3  菜量实惠，上菜还算比较快，疙瘩汤喝出了秋日的暖意，烧茄子吃出了大阪烧的味道，想吃土豆片也是口...          1\n",
              "4  先说我算是娜娜家风荷园开业就一直在这里吃 每次出去回来总想吃一回 有时觉得外面的西式简餐总是...          1"
            ]
          },
          "metadata": {
            "tags": []
          },
          "execution_count": 49
        }
      ]
    },
    {
      "metadata": {
        "id": "V7SFwAwQncxt",
        "colab_type": "code",
        "colab": {
          "base_uri": "https://localhost:8080/",
          "height": 211
        },
        "outputId": "bf4a5db6-bf12-4b15-bb5c-515cce3c255e"
      },
      "cell_type": "code",
      "source": [
        "!pip install jieba"
      ],
      "execution_count": 38,
      "outputs": [
        {
          "output_type": "stream",
          "text": [
            "Collecting jieba\n",
            "\u001b[?25l  Downloading https://files.pythonhosted.org/packages/71/46/c6f9179f73b818d5827202ad1c4a94e371a29473b7f043b736b4dab6b8cd/jieba-0.39.zip (7.3MB)\n",
            "\u001b[K    100% |████████████████████████████████| 7.3MB 4.3MB/s \n",
            "\u001b[?25hBuilding wheels for collected packages: jieba\n",
            "  Running setup.py bdist_wheel for jieba ... \u001b[?25l-\b \b\\\b \b|\b \b/\b \b-\b \b\\\b \b|\b \b/\b \bdone\n",
            "\u001b[?25h  Stored in directory: /root/.cache/pip/wheels/c9/c7/63/a9ec0322ccc7c365fd51e475942a82395807186e94f0522243\n",
            "Successfully built jieba\n",
            "Installing collected packages: jieba\n",
            "Successfully installed jieba-0.39\n"
          ],
          "name": "stdout"
        }
      ]
    },
    {
      "metadata": {
        "id": "gkRw-p0ukNue",
        "colab_type": "code",
        "colab": {}
      },
      "cell_type": "code",
      "source": [
        "import jieba"
      ],
      "execution_count": 0,
      "outputs": []
    },
    {
      "metadata": {
        "id": "xQF1CCc8nbrd",
        "colab_type": "code",
        "colab": {}
      },
      "cell_type": "code",
      "source": [
        "df['text'] = df.comment.apply(lambda x: \" \".join(jieba.cut(x)))"
      ],
      "execution_count": 0,
      "outputs": []
    },
    {
      "metadata": {
        "id": "h3vMIzMMno-n",
        "colab_type": "code",
        "colab": {
          "base_uri": "https://localhost:8080/",
          "height": 289
        },
        "outputId": "63933c75-baf2-47c4-e6c1-a7abc09aebc7"
      },
      "cell_type": "code",
      "source": [
        "df.head()"
      ],
      "execution_count": 51,
      "outputs": [
        {
          "output_type": "execute_result",
          "data": {
            "text/html": [
              "<div>\n",
              "<style scoped>\n",
              "    .dataframe tbody tr th:only-of-type {\n",
              "        vertical-align: middle;\n",
              "    }\n",
              "\n",
              "    .dataframe tbody tr th {\n",
              "        vertical-align: top;\n",
              "    }\n",
              "\n",
              "    .dataframe thead th {\n",
              "        text-align: right;\n",
              "    }\n",
              "</style>\n",
              "<table border=\"1\" class=\"dataframe\">\n",
              "  <thead>\n",
              "    <tr style=\"text-align: right;\">\n",
              "      <th></th>\n",
              "      <th>comment</th>\n",
              "      <th>sentiment</th>\n",
              "      <th>text</th>\n",
              "    </tr>\n",
              "  </thead>\n",
              "  <tbody>\n",
              "    <tr>\n",
              "      <th>0</th>\n",
              "      <td>口味：不知道是我口高了，还是这家真不怎么样。 我感觉口味确实很一般很一般。上菜相当快，我敢说...</td>\n",
              "      <td>0</td>\n",
              "      <td>口味 ： 不 知道 是 我口 高 了 ， 还是 这家 真 不怎么样 。   我 感觉 口味 ...</td>\n",
              "    </tr>\n",
              "    <tr>\n",
              "      <th>1</th>\n",
              "      <td>菜品丰富质量好，服务也不错！很喜欢！</td>\n",
              "      <td>1</td>\n",
              "      <td>菜品 丰富 质量 好 ， 服务 也 不错 ！ 很 喜欢 ！</td>\n",
              "    </tr>\n",
              "    <tr>\n",
              "      <th>2</th>\n",
              "      <td>说真的，不晓得有人排队的理由，香精香精香精香精，拜拜！</td>\n",
              "      <td>0</td>\n",
              "      <td>说真的 ， 不 晓得 有人 排队 的 理由 ， 香精 香精 香精 香精 ， 拜拜 ！</td>\n",
              "    </tr>\n",
              "    <tr>\n",
              "      <th>3</th>\n",
              "      <td>菜量实惠，上菜还算比较快，疙瘩汤喝出了秋日的暖意，烧茄子吃出了大阪烧的味道，想吃土豆片也是口...</td>\n",
              "      <td>1</td>\n",
              "      <td>菜量 实惠 ， 上菜 还 算 比较 快 ， 疙瘩汤 喝出 了 秋日 的 暖意 ， 烧茄子 吃...</td>\n",
              "    </tr>\n",
              "    <tr>\n",
              "      <th>4</th>\n",
              "      <td>先说我算是娜娜家风荷园开业就一直在这里吃 每次出去回来总想吃一回 有时觉得外面的西式简餐总是...</td>\n",
              "      <td>1</td>\n",
              "      <td>先说 我 算是 娜娜 家风 荷园 开业 就 一直 在 这里 吃   每次 出去 回来 总想 ...</td>\n",
              "    </tr>\n",
              "  </tbody>\n",
              "</table>\n",
              "</div>"
            ],
            "text/plain": [
              "                                             comment  sentiment  \\\n",
              "0  口味：不知道是我口高了，还是这家真不怎么样。 我感觉口味确实很一般很一般。上菜相当快，我敢说...          0   \n",
              "1                                 菜品丰富质量好，服务也不错！很喜欢！          1   \n",
              "2                        说真的，不晓得有人排队的理由，香精香精香精香精，拜拜！          0   \n",
              "3  菜量实惠，上菜还算比较快，疙瘩汤喝出了秋日的暖意，烧茄子吃出了大阪烧的味道，想吃土豆片也是口...          1   \n",
              "4  先说我算是娜娜家风荷园开业就一直在这里吃 每次出去回来总想吃一回 有时觉得外面的西式简餐总是...          1   \n",
              "\n",
              "                                                text  \n",
              "0  口味 ： 不 知道 是 我口 高 了 ， 还是 这家 真 不怎么样 。   我 感觉 口味 ...  \n",
              "1                      菜品 丰富 质量 好 ， 服务 也 不错 ！ 很 喜欢 ！  \n",
              "2         说真的 ， 不 晓得 有人 排队 的 理由 ， 香精 香精 香精 香精 ， 拜拜 ！  \n",
              "3  菜量 实惠 ， 上菜 还 算 比较 快 ， 疙瘩汤 喝出 了 秋日 的 暖意 ， 烧茄子 吃...  \n",
              "4  先说 我 算是 娜娜 家风 荷园 开业 就 一直 在 这里 吃   每次 出去 回来 总想 ...  "
            ]
          },
          "metadata": {
            "tags": []
          },
          "execution_count": 51
        }
      ]
    },
    {
      "metadata": {
        "id": "lUq0vDAansUY",
        "colab_type": "code",
        "colab": {}
      },
      "cell_type": "code",
      "source": [
        "df = df[['text', 'sentiment']]"
      ],
      "execution_count": 0,
      "outputs": []
    },
    {
      "metadata": {
        "id": "Hb-TXWJin0GK",
        "colab_type": "code",
        "colab": {
          "base_uri": "https://localhost:8080/",
          "height": 202
        },
        "outputId": "8fc944d7-facb-4e4b-d5f4-6ea5ecfc74f4"
      },
      "cell_type": "code",
      "source": [
        "df.head()"
      ],
      "execution_count": 53,
      "outputs": [
        {
          "output_type": "execute_result",
          "data": {
            "text/html": [
              "<div>\n",
              "<style scoped>\n",
              "    .dataframe tbody tr th:only-of-type {\n",
              "        vertical-align: middle;\n",
              "    }\n",
              "\n",
              "    .dataframe tbody tr th {\n",
              "        vertical-align: top;\n",
              "    }\n",
              "\n",
              "    .dataframe thead th {\n",
              "        text-align: right;\n",
              "    }\n",
              "</style>\n",
              "<table border=\"1\" class=\"dataframe\">\n",
              "  <thead>\n",
              "    <tr style=\"text-align: right;\">\n",
              "      <th></th>\n",
              "      <th>text</th>\n",
              "      <th>sentiment</th>\n",
              "    </tr>\n",
              "  </thead>\n",
              "  <tbody>\n",
              "    <tr>\n",
              "      <th>0</th>\n",
              "      <td>口味 ： 不 知道 是 我口 高 了 ， 还是 这家 真 不怎么样 。   我 感觉 口味 ...</td>\n",
              "      <td>0</td>\n",
              "    </tr>\n",
              "    <tr>\n",
              "      <th>1</th>\n",
              "      <td>菜品 丰富 质量 好 ， 服务 也 不错 ！ 很 喜欢 ！</td>\n",
              "      <td>1</td>\n",
              "    </tr>\n",
              "    <tr>\n",
              "      <th>2</th>\n",
              "      <td>说真的 ， 不 晓得 有人 排队 的 理由 ， 香精 香精 香精 香精 ， 拜拜 ！</td>\n",
              "      <td>0</td>\n",
              "    </tr>\n",
              "    <tr>\n",
              "      <th>3</th>\n",
              "      <td>菜量 实惠 ， 上菜 还 算 比较 快 ， 疙瘩汤 喝出 了 秋日 的 暖意 ， 烧茄子 吃...</td>\n",
              "      <td>1</td>\n",
              "    </tr>\n",
              "    <tr>\n",
              "      <th>4</th>\n",
              "      <td>先说 我 算是 娜娜 家风 荷园 开业 就 一直 在 这里 吃   每次 出去 回来 总想 ...</td>\n",
              "      <td>1</td>\n",
              "    </tr>\n",
              "  </tbody>\n",
              "</table>\n",
              "</div>"
            ],
            "text/plain": [
              "                                                text  sentiment\n",
              "0  口味 ： 不 知道 是 我口 高 了 ， 还是 这家 真 不怎么样 。   我 感觉 口味 ...          0\n",
              "1                      菜品 丰富 质量 好 ， 服务 也 不错 ！ 很 喜欢 ！          1\n",
              "2         说真的 ， 不 晓得 有人 排队 的 理由 ， 香精 香精 香精 香精 ， 拜拜 ！          0\n",
              "3  菜量 实惠 ， 上菜 还 算 比较 快 ， 疙瘩汤 喝出 了 秋日 的 暖意 ， 烧茄子 吃...          1\n",
              "4  先说 我 算是 娜娜 家风 荷园 开业 就 一直 在 这里 吃   每次 出去 回来 总想 ...          1"
            ]
          },
          "metadata": {
            "tags": []
          },
          "execution_count": 53
        }
      ]
    },
    {
      "metadata": {
        "id": "C0Ir4hJEn0iR",
        "colab_type": "code",
        "colab": {
          "base_uri": "https://localhost:8080/",
          "height": 37
        },
        "outputId": "f3eb26a8-c859-4651-9d7d-2a4686911b24"
      },
      "cell_type": "code",
      "source": [
        "from keras.preprocessing.text import Tokenizer\n",
        "from keras.preprocessing.sequence import pad_sequences\n",
        "import numpy as np"
      ],
      "execution_count": 46,
      "outputs": [
        {
          "output_type": "stream",
          "text": [
            "Using TensorFlow backend.\n"
          ],
          "name": "stderr"
        }
      ]
    },
    {
      "metadata": {
        "id": "WFsTI_StoDee",
        "colab_type": "code",
        "colab": {}
      },
      "cell_type": "code",
      "source": [
        "maxlen = 100\n",
        "max_words = 10000"
      ],
      "execution_count": 0,
      "outputs": []
    },
    {
      "metadata": {
        "id": "YPfu4Sc4oE4O",
        "colab_type": "code",
        "colab": {}
      },
      "cell_type": "code",
      "source": [
        "tokenizer = Tokenizer(num_words=max_words)\n",
        "tokenizer.fit_on_texts(df.text)\n",
        "sequences = tokenizer.texts_to_sequences(df.text)"
      ],
      "execution_count": 0,
      "outputs": []
    },
    {
      "metadata": {
        "id": "FvbiBggvvYjs",
        "colab_type": "code",
        "colab": {}
      },
      "cell_type": "code",
      "source": [
        "word_index = tokenizer.word_index"
      ],
      "execution_count": 0,
      "outputs": []
    },
    {
      "metadata": {
        "id": "Y_j3kuru2gLP",
        "colab_type": "code",
        "colab": {}
      },
      "cell_type": "code",
      "source": [
        "data = pad_sequences(sequences, maxlen=maxlen)"
      ],
      "execution_count": 0,
      "outputs": []
    },
    {
      "metadata": {
        "id": "6MzGATa12hy_",
        "colab_type": "code",
        "colab": {
          "base_uri": "https://localhost:8080/",
          "height": 153
        },
        "outputId": "2c3efd37-a7e5-479f-df13-3f81b4e81486"
      },
      "cell_type": "code",
      "source": [
        "data"
      ],
      "execution_count": 144,
      "outputs": [
        {
          "output_type": "execute_result",
          "data": {
            "text/plain": [
              "array([[   2,    1,   74, ..., 4471,  864,    4],\n",
              "       [   0,    0,    0, ...,    9,   52,    6],\n",
              "       [   0,    0,    0, ...,    1, 3154,    6],\n",
              "       ...,\n",
              "       [   0,    0,    0, ..., 2840,    1, 2240],\n",
              "       [   0,    0,    0, ...,   19,   44,  196],\n",
              "       [   0,    0,    0, ...,  533,   42,    6]], dtype=int32)"
            ]
          },
          "metadata": {
            "tags": []
          },
          "execution_count": 144
        }
      ]
    },
    {
      "metadata": {
        "id": "ao9cMCDo2jwf",
        "colab_type": "code",
        "colab": {}
      },
      "cell_type": "code",
      "source": [
        "labels = np.array(df.sentiment)"
      ],
      "execution_count": 0,
      "outputs": []
    },
    {
      "metadata": {
        "id": "dr9aeSAh24ZB",
        "colab_type": "code",
        "colab": {}
      },
      "cell_type": "code",
      "source": [
        "indices = np.arange(data.shape[0])\n",
        "np.random.shuffle(indices)\n",
        "data = data[indices]\n",
        "labels = labels[indices]"
      ],
      "execution_count": 0,
      "outputs": []
    },
    {
      "metadata": {
        "id": "XkuiorQz3Fqb",
        "colab_type": "code",
        "colab": {}
      },
      "cell_type": "code",
      "source": [
        "training_samples = int(len(indices) * .8)\n",
        "validation_samples = len(indices) - training_samples"
      ],
      "execution_count": 0,
      "outputs": []
    },
    {
      "metadata": {
        "id": "K7-cjA_V3Lhr",
        "colab_type": "code",
        "colab": {
          "base_uri": "https://localhost:8080/",
          "height": 37
        },
        "outputId": "c35a16fe-83e5-47ca-82e9-969b56e7844a"
      },
      "cell_type": "code",
      "source": [
        "training_samples"
      ],
      "execution_count": 156,
      "outputs": [
        {
          "output_type": "execute_result",
          "data": {
            "text/plain": [
              "1600"
            ]
          },
          "metadata": {
            "tags": []
          },
          "execution_count": 156
        }
      ]
    },
    {
      "metadata": {
        "id": "7Zj3c0_g3Beh",
        "colab_type": "code",
        "colab": {}
      },
      "cell_type": "code",
      "source": [
        "x_train = data[:training_samples]\n",
        "y_train = labels[:training_samples]\n",
        "x_val = data[training_samples: training_samples + validation_samples]\n",
        "y_val = labels[training_samples: training_samples + validation_samples]"
      ],
      "execution_count": 0,
      "outputs": []
    },
    {
      "metadata": {
        "id": "JWIYnJ1i2nTM",
        "colab_type": "code",
        "colab": {}
      },
      "cell_type": "code",
      "source": [
        "#labels"
      ],
      "execution_count": 0,
      "outputs": []
    },
    {
      "metadata": {
        "id": "vMVfIawvpKIk",
        "colab_type": "code",
        "colab": {}
      },
      "cell_type": "code",
      "source": [
        "#sequences"
      ],
      "execution_count": 0,
      "outputs": []
    },
    {
      "metadata": {
        "id": "gI_ONRTOoV7X",
        "colab_type": "code",
        "colab": {}
      },
      "cell_type": "code",
      "source": [
        "#sequences[0]"
      ],
      "execution_count": 0,
      "outputs": []
    },
    {
      "metadata": {
        "id": "jU0Bur3So222",
        "colab_type": "code",
        "colab": {
          "base_uri": "https://localhost:8080/",
          "height": 153
        },
        "outputId": "2c52a85f-97db-4a65-98d4-d749326cc08a"
      },
      "cell_type": "code",
      "source": [
        "#pad_sequences(sequences, maxlen=maxlen)"
      ],
      "execution_count": 61,
      "outputs": [
        {
          "output_type": "execute_result",
          "data": {
            "text/plain": [
              "array([[   2,    1,   74, ..., 4471,  864,    4],\n",
              "       [   0,    0,    0, ...,    9,   52,    6],\n",
              "       [   0,    0,    0, ...,    1, 3154,    6],\n",
              "       ...,\n",
              "       [   0,    0,    0, ..., 2840,    1, 2240],\n",
              "       [   0,    0,    0, ...,   19,   44,  196],\n",
              "       [   0,    0,    0, ...,  533,   42,    6]], dtype=int32)"
            ]
          },
          "metadata": {
            "tags": []
          },
          "execution_count": 61
        }
      ]
    },
    {
      "metadata": {
        "id": "O1PbAV_o0N6x",
        "colab_type": "code",
        "colab": {
          "base_uri": "https://localhost:8080/",
          "height": 271
        },
        "outputId": "aae58417-720b-4f09-85ce-21e96e8a83a0"
      },
      "cell_type": "code",
      "source": [
        "df.head()"
      ],
      "execution_count": 123,
      "outputs": [
        {
          "output_type": "execute_result",
          "data": {
            "text/html": [
              "<div>\n",
              "<style scoped>\n",
              "    .dataframe tbody tr th:only-of-type {\n",
              "        vertical-align: middle;\n",
              "    }\n",
              "\n",
              "    .dataframe tbody tr th {\n",
              "        vertical-align: top;\n",
              "    }\n",
              "\n",
              "    .dataframe thead th {\n",
              "        text-align: right;\n",
              "    }\n",
              "</style>\n",
              "<table border=\"1\" class=\"dataframe\">\n",
              "  <thead>\n",
              "    <tr style=\"text-align: right;\">\n",
              "      <th></th>\n",
              "      <th>text</th>\n",
              "      <th>sentiment</th>\n",
              "      <th>seq</th>\n",
              "    </tr>\n",
              "  </thead>\n",
              "  <tbody>\n",
              "    <tr>\n",
              "      <th>0</th>\n",
              "      <td>口味 ： 不 知道 是 我口 高 了 ， 还是 这家 真 不怎么样 。   我 感觉 口味 ...</td>\n",
              "      <td>0</td>\n",
              "      <td>[2, 1, 74, 691, 4467, 4, 1798, 1417, 4, 4, 4, ...</td>\n",
              "    </tr>\n",
              "    <tr>\n",
              "      <th>1</th>\n",
              "      <td>菜品 丰富 质量 好 ， 服务 也 不错 ！ 很 喜欢 ！</td>\n",
              "      <td>1</td>\n",
              "      <td>[0, 0, 0, 0, 0, 0, 0, 0, 0, 0, 0, 0, 0, 0, 0, ...</td>\n",
              "    </tr>\n",
              "    <tr>\n",
              "      <th>2</th>\n",
              "      <td>说真的 ， 不 晓得 有人 排队 的 理由 ， 香精 香精 香精 香精 ， 拜拜 ！</td>\n",
              "      <td>0</td>\n",
              "      <td>[0, 0, 0, 0, 0, 0, 0, 0, 0, 0, 0, 0, 0, 0, 0, ...</td>\n",
              "    </tr>\n",
              "    <tr>\n",
              "      <th>3</th>\n",
              "      <td>菜量 实惠 ， 上菜 还 算 比较 快 ， 疙瘩汤 喝出 了 秋日 的 暖意 ， 烧茄子 吃...</td>\n",
              "      <td>1</td>\n",
              "      <td>[0, 0, 0, 0, 0, 0, 0, 0, 0, 0, 0, 0, 0, 0, 0, ...</td>\n",
              "    </tr>\n",
              "    <tr>\n",
              "      <th>4</th>\n",
              "      <td>先说 我 算是 娜娜 家风 荷园 开业 就 一直 在 这里 吃   每次 出去 回来 总想 ...</td>\n",
              "      <td>1</td>\n",
              "      <td>[2474, 5, 1032, 16, 97, 27, 2, 173, 5, 16, 661...</td>\n",
              "    </tr>\n",
              "  </tbody>\n",
              "</table>\n",
              "</div>"
            ],
            "text/plain": [
              "                                                text  sentiment  \\\n",
              "0  口味 ： 不 知道 是 我口 高 了 ， 还是 这家 真 不怎么样 。   我 感觉 口味 ...          0   \n",
              "1                      菜品 丰富 质量 好 ， 服务 也 不错 ！ 很 喜欢 ！          1   \n",
              "2         说真的 ， 不 晓得 有人 排队 的 理由 ， 香精 香精 香精 香精 ， 拜拜 ！          0   \n",
              "3  菜量 实惠 ， 上菜 还 算 比较 快 ， 疙瘩汤 喝出 了 秋日 的 暖意 ， 烧茄子 吃...          1   \n",
              "4  先说 我 算是 娜娜 家风 荷园 开业 就 一直 在 这里 吃   每次 出去 回来 总想 ...          1   \n",
              "\n",
              "                                                 seq  \n",
              "0  [2, 1, 74, 691, 4467, 4, 1798, 1417, 4, 4, 4, ...  \n",
              "1  [0, 0, 0, 0, 0, 0, 0, 0, 0, 0, 0, 0, 0, 0, 0, ...  \n",
              "2  [0, 0, 0, 0, 0, 0, 0, 0, 0, 0, 0, 0, 0, 0, 0, ...  \n",
              "3  [0, 0, 0, 0, 0, 0, 0, 0, 0, 0, 0, 0, 0, 0, 0, ...  \n",
              "4  [2474, 5, 1032, 16, 97, 27, 2, 173, 5, 16, 661...  "
            ]
          },
          "metadata": {
            "tags": []
          },
          "execution_count": 123
        }
      ]
    },
    {
      "metadata": {
        "id": "96TknytToXAR",
        "colab_type": "code",
        "colab": {}
      },
      "cell_type": "code",
      "source": [
        "df[\"seq\"] = list(pad_sequences(sequences, maxlen=maxlen))"
      ],
      "execution_count": 0,
      "outputs": []
    },
    {
      "metadata": {
        "id": "qT2bWqqOokJL",
        "colab_type": "code",
        "colab": {
          "base_uri": "https://localhost:8080/",
          "height": 271
        },
        "outputId": "c3ac545f-3a43-4015-b138-f4b09000d90c"
      },
      "cell_type": "code",
      "source": [
        "df.head()"
      ],
      "execution_count": 127,
      "outputs": [
        {
          "output_type": "execute_result",
          "data": {
            "text/html": [
              "<div>\n",
              "<style scoped>\n",
              "    .dataframe tbody tr th:only-of-type {\n",
              "        vertical-align: middle;\n",
              "    }\n",
              "\n",
              "    .dataframe tbody tr th {\n",
              "        vertical-align: top;\n",
              "    }\n",
              "\n",
              "    .dataframe thead th {\n",
              "        text-align: right;\n",
              "    }\n",
              "</style>\n",
              "<table border=\"1\" class=\"dataframe\">\n",
              "  <thead>\n",
              "    <tr style=\"text-align: right;\">\n",
              "      <th></th>\n",
              "      <th>text</th>\n",
              "      <th>sentiment</th>\n",
              "      <th>seq</th>\n",
              "    </tr>\n",
              "  </thead>\n",
              "  <tbody>\n",
              "    <tr>\n",
              "      <th>0</th>\n",
              "      <td>口味 ： 不 知道 是 我口 高 了 ， 还是 这家 真 不怎么样 。   我 感觉 口味 ...</td>\n",
              "      <td>0</td>\n",
              "      <td>[2, 1, 74, 691, 4467, 4, 1798, 1417, 4, 4, 4, ...</td>\n",
              "    </tr>\n",
              "    <tr>\n",
              "      <th>1</th>\n",
              "      <td>菜品 丰富 质量 好 ， 服务 也 不错 ！ 很 喜欢 ！</td>\n",
              "      <td>1</td>\n",
              "      <td>[0, 0, 0, 0, 0, 0, 0, 0, 0, 0, 0, 0, 0, 0, 0, ...</td>\n",
              "    </tr>\n",
              "    <tr>\n",
              "      <th>2</th>\n",
              "      <td>说真的 ， 不 晓得 有人 排队 的 理由 ， 香精 香精 香精 香精 ， 拜拜 ！</td>\n",
              "      <td>0</td>\n",
              "      <td>[0, 0, 0, 0, 0, 0, 0, 0, 0, 0, 0, 0, 0, 0, 0, ...</td>\n",
              "    </tr>\n",
              "    <tr>\n",
              "      <th>3</th>\n",
              "      <td>菜量 实惠 ， 上菜 还 算 比较 快 ， 疙瘩汤 喝出 了 秋日 的 暖意 ， 烧茄子 吃...</td>\n",
              "      <td>1</td>\n",
              "      <td>[0, 0, 0, 0, 0, 0, 0, 0, 0, 0, 0, 0, 0, 0, 0, ...</td>\n",
              "    </tr>\n",
              "    <tr>\n",
              "      <th>4</th>\n",
              "      <td>先说 我 算是 娜娜 家风 荷园 开业 就 一直 在 这里 吃   每次 出去 回来 总想 ...</td>\n",
              "      <td>1</td>\n",
              "      <td>[2474, 5, 1032, 16, 97, 27, 2, 173, 5, 16, 661...</td>\n",
              "    </tr>\n",
              "  </tbody>\n",
              "</table>\n",
              "</div>"
            ],
            "text/plain": [
              "                                                text  sentiment  \\\n",
              "0  口味 ： 不 知道 是 我口 高 了 ， 还是 这家 真 不怎么样 。   我 感觉 口味 ...          0   \n",
              "1                      菜品 丰富 质量 好 ， 服务 也 不错 ！ 很 喜欢 ！          1   \n",
              "2         说真的 ， 不 晓得 有人 排队 的 理由 ， 香精 香精 香精 香精 ， 拜拜 ！          0   \n",
              "3  菜量 实惠 ， 上菜 还 算 比较 快 ， 疙瘩汤 喝出 了 秋日 的 暖意 ， 烧茄子 吃...          1   \n",
              "4  先说 我 算是 娜娜 家风 荷园 开业 就 一直 在 这里 吃   每次 出去 回来 总想 ...          1   \n",
              "\n",
              "                                                 seq  \n",
              "0  [2, 1, 74, 691, 4467, 4, 1798, 1417, 4, 4, 4, ...  \n",
              "1  [0, 0, 0, 0, 0, 0, 0, 0, 0, 0, 0, 0, 0, 0, 0, ...  \n",
              "2  [0, 0, 0, 0, 0, 0, 0, 0, 0, 0, 0, 0, 0, 0, 0, ...  \n",
              "3  [0, 0, 0, 0, 0, 0, 0, 0, 0, 0, 0, 0, 0, 0, 0, ...  \n",
              "4  [2474, 5, 1032, 16, 97, 27, 2, 173, 5, 16, 661...  "
            ]
          },
          "metadata": {
            "tags": []
          },
          "execution_count": 127
        }
      ]
    },
    {
      "metadata": {
        "id": "qVHkybjt0X9e",
        "colab_type": "code",
        "colab": {}
      },
      "cell_type": "code",
      "source": [
        "import numpy as np"
      ],
      "execution_count": 0,
      "outputs": []
    },
    {
      "metadata": {
        "id": "8cfSxSrT0vV9",
        "colab_type": "code",
        "colab": {}
      },
      "cell_type": "code",
      "source": [
        "df.seq = df.seq.apply(lambda x: np.array(x))"
      ],
      "execution_count": 0,
      "outputs": []
    },
    {
      "metadata": {
        "id": "RZjd3kQjolAf",
        "colab_type": "code",
        "colab": {}
      },
      "cell_type": "code",
      "source": [
        "X = df.seq ; y = df.sentiment"
      ],
      "execution_count": 0,
      "outputs": []
    },
    {
      "metadata": {
        "id": "87BlvryFp5cO",
        "colab_type": "code",
        "colab": {}
      },
      "cell_type": "code",
      "source": [
        "from sklearn.model_selection import train_test_split\n",
        "X_train, X_valid, y_train, y_valid = train_test_split(X, y, random_state=1)"
      ],
      "execution_count": 0,
      "outputs": []
    },
    {
      "metadata": {
        "id": "rU_4yC-8p91O",
        "colab_type": "code",
        "colab": {
          "base_uri": "https://localhost:8080/",
          "height": 133
        },
        "outputId": "1068541a-5d5f-413e-ac4d-71408b504f8c"
      },
      "cell_type": "code",
      "source": [
        "X_train.head()"
      ],
      "execution_count": 134,
      "outputs": [
        {
          "output_type": "execute_result",
          "data": {
            "text/plain": [
              "650     [0, 0, 0, 0, 0, 0, 0, 0, 0, 0, 0, 0, 0, 0, 0, ...\n",
              "1104    [0, 0, 0, 0, 0, 0, 0, 0, 0, 0, 0, 0, 0, 0, 0, ...\n",
              "561     [0, 0, 0, 0, 0, 0, 0, 0, 0, 0, 0, 0, 0, 0, 0, ...\n",
              "643     [0, 0, 0, 0, 0, 0, 0, 0, 0, 0, 0, 0, 0, 0, 0, ...\n",
              "441     [3622, 1, 760, 803, 1, 114, 52, 2, 20, 132, 7,...\n",
              "Name: seq, dtype: object"
            ]
          },
          "metadata": {
            "tags": []
          },
          "execution_count": 134
        }
      ]
    },
    {
      "metadata": {
        "id": "Wcpualctp-rm",
        "colab_type": "code",
        "colab": {
          "base_uri": "https://localhost:8080/",
          "height": 37
        },
        "outputId": "7501d4b0-2cd2-48d3-bf83-f9d27d1f52f2"
      },
      "cell_type": "code",
      "source": [
        "len(X_train)"
      ],
      "execution_count": 70,
      "outputs": [
        {
          "output_type": "execute_result",
          "data": {
            "text/plain": [
              "1500"
            ]
          },
          "metadata": {
            "tags": []
          },
          "execution_count": 70
        }
      ]
    },
    {
      "metadata": {
        "id": "wH62TnL6t7zK",
        "colab_type": "code",
        "colab": {
          "base_uri": "https://localhost:8080/",
          "height": 830
        },
        "outputId": "3778ed5d-fae2-40e1-aac3-7fd9ee9fe391"
      },
      "cell_type": "code",
      "source": [
        "!pip install gensim"
      ],
      "execution_count": 74,
      "outputs": [
        {
          "output_type": "stream",
          "text": [
            "Collecting gensim\n",
            "\u001b[?25l  Downloading https://files.pythonhosted.org/packages/27/a4/d10c0acc8528d838cda5eede0ee9c784caa598dbf40bd0911ff8d067a7eb/gensim-3.6.0-cp36-cp36m-manylinux1_x86_64.whl (23.6MB)\n",
            "\u001b[K    100% |████████████████████████████████| 23.6MB 1.4MB/s \n",
            "\u001b[?25hRequirement already satisfied: six>=1.5.0 in /usr/local/lib/python3.6/dist-packages (from gensim) (1.11.0)\n",
            "Requirement already satisfied: scipy>=0.18.1 in /usr/local/lib/python3.6/dist-packages (from gensim) (1.1.0)\n",
            "Requirement already satisfied: numpy>=1.11.3 in /usr/local/lib/python3.6/dist-packages (from gensim) (1.14.6)\n",
            "Collecting smart-open>=1.2.1 (from gensim)\n",
            "  Downloading https://files.pythonhosted.org/packages/4b/1f/6f27e3682124de63ac97a0a5876da6186de6c19410feab66c1543afab055/smart_open-1.7.1.tar.gz\n",
            "Collecting boto>=2.32 (from smart-open>=1.2.1->gensim)\n",
            "\u001b[?25l  Downloading https://files.pythonhosted.org/packages/23/10/c0b78c27298029e4454a472a1919bde20cb182dab1662cec7f2ca1dcc523/boto-2.49.0-py2.py3-none-any.whl (1.4MB)\n",
            "\u001b[K    100% |████████████████████████████████| 1.4MB 12.9MB/s \n",
            "\u001b[?25hCollecting bz2file (from smart-open>=1.2.1->gensim)\n",
            "  Downloading https://files.pythonhosted.org/packages/61/39/122222b5e85cd41c391b68a99ee296584b2a2d1d233e7ee32b4532384f2d/bz2file-0.98.tar.gz\n",
            "Requirement already satisfied: requests in /usr/local/lib/python3.6/dist-packages (from smart-open>=1.2.1->gensim) (2.18.4)\n",
            "Collecting boto3 (from smart-open>=1.2.1->gensim)\n",
            "\u001b[?25l  Downloading https://files.pythonhosted.org/packages/3f/01/7d129a9f03df402234e2d469d73ad8d1a8c7decdc3bd4b7625beea9e0b82/boto3-1.9.47-py2.py3-none-any.whl (128kB)\n",
            "\u001b[K    100% |████████████████████████████████| 133kB 29.6MB/s \n",
            "\u001b[?25hRequirement already satisfied: chardet<3.1.0,>=3.0.2 in /usr/local/lib/python3.6/dist-packages (from requests->smart-open>=1.2.1->gensim) (3.0.4)\n",
            "Requirement already satisfied: certifi>=2017.4.17 in /usr/local/lib/python3.6/dist-packages (from requests->smart-open>=1.2.1->gensim) (2018.10.15)\n",
            "Requirement already satisfied: urllib3<1.23,>=1.21.1 in /usr/local/lib/python3.6/dist-packages (from requests->smart-open>=1.2.1->gensim) (1.22)\n",
            "Requirement already satisfied: idna<2.7,>=2.5 in /usr/local/lib/python3.6/dist-packages (from requests->smart-open>=1.2.1->gensim) (2.6)\n",
            "Collecting botocore<1.13.0,>=1.12.47 (from boto3->smart-open>=1.2.1->gensim)\n",
            "\u001b[?25l  Downloading https://files.pythonhosted.org/packages/86/69/62adb21d6af91ca1128c529112cd82570689186cafa7b7978a494739ddfd/botocore-1.12.47-py2.py3-none-any.whl (4.8MB)\n",
            "\u001b[K    100% |████████████████████████████████| 4.8MB 6.7MB/s \n",
            "\u001b[?25hCollecting s3transfer<0.2.0,>=0.1.10 (from boto3->smart-open>=1.2.1->gensim)\n",
            "\u001b[?25l  Downloading https://files.pythonhosted.org/packages/d7/14/2a0004d487464d120c9fb85313a75cd3d71a7506955be458eebfe19a6b1d/s3transfer-0.1.13-py2.py3-none-any.whl (59kB)\n",
            "\u001b[K    100% |████████████████████████████████| 61kB 24.0MB/s \n",
            "\u001b[?25hCollecting jmespath<1.0.0,>=0.7.1 (from boto3->smart-open>=1.2.1->gensim)\n",
            "  Downloading https://files.pythonhosted.org/packages/b7/31/05c8d001f7f87f0f07289a5fc0fc3832e9a57f2dbd4d3b0fee70e0d51365/jmespath-0.9.3-py2.py3-none-any.whl\n",
            "Requirement already satisfied: python-dateutil<3.0.0,>=2.1; python_version >= \"2.7\" in /usr/local/lib/python3.6/dist-packages (from botocore<1.13.0,>=1.12.47->boto3->smart-open>=1.2.1->gensim) (2.5.3)\n",
            "Collecting docutils>=0.10 (from botocore<1.13.0,>=1.12.47->boto3->smart-open>=1.2.1->gensim)\n",
            "\u001b[?25l  Downloading https://files.pythonhosted.org/packages/36/fa/08e9e6e0e3cbd1d362c3bbee8d01d0aedb2155c4ac112b19ef3cae8eed8d/docutils-0.14-py3-none-any.whl (543kB)\n",
            "\u001b[K    100% |████████████████████████████████| 552kB 25.8MB/s \n",
            "\u001b[?25hBuilding wheels for collected packages: smart-open, bz2file\n",
            "  Running setup.py bdist_wheel for smart-open ... \u001b[?25l-\b \bdone\n",
            "\u001b[?25h  Stored in directory: /root/.cache/pip/wheels/23/00/44/e5b939f7a80c04e32297dbd6d96fa3065af89ecf57e2b5f89f\n",
            "  Running setup.py bdist_wheel for bz2file ... \u001b[?25l-\b \bdone\n",
            "\u001b[?25h  Stored in directory: /root/.cache/pip/wheels/81/75/d6/e1317bf09bf1af5a30befc2a007869fa6e1f516b8f7c591cb9\n",
            "Successfully built smart-open bz2file\n",
            "Installing collected packages: boto, bz2file, jmespath, docutils, botocore, s3transfer, boto3, smart-open, gensim\n",
            "Successfully installed boto-2.49.0 boto3-1.9.47 botocore-1.12.47 bz2file-0.98 docutils-0.14 gensim-3.6.0 jmespath-0.9.3 s3transfer-0.1.13 smart-open-1.7.1\n"
          ],
          "name": "stdout"
        }
      ]
    },
    {
      "metadata": {
        "id": "tWV4rLt1qEBS",
        "colab_type": "code",
        "colab": {}
      },
      "cell_type": "code",
      "source": [
        "from gensim.models import KeyedVectors"
      ],
      "execution_count": 0,
      "outputs": []
    },
    {
      "metadata": {
        "id": "3BWQs3Bht6Xi",
        "colab_type": "code",
        "colab": {}
      },
      "cell_type": "code",
      "source": [
        "zh_model = KeyedVectors.load_word2vec_format('zh.vec')"
      ],
      "execution_count": 0,
      "outputs": []
    },
    {
      "metadata": {
        "id": "Nrn8b_iiuDJx",
        "colab_type": "code",
        "colab": {
          "base_uri": "https://localhost:8080/",
          "height": 1197
        },
        "outputId": "2d429a58-f2b1-49b1-e48e-a6ae7c957381"
      },
      "cell_type": "code",
      "source": [
        "zh_model.vectors[0]"
      ],
      "execution_count": 77,
      "outputs": [
        {
          "output_type": "execute_result",
          "data": {
            "text/plain": [
              "array([ 8.6988e-02,  9.1123e-02,  3.0722e-02,  3.4160e-03,  2.7568e-02,\n",
              "        5.4995e-03,  1.0905e-01,  4.9999e-02, -1.9161e-01,  4.2729e-02,\n",
              "        1.3284e-01, -4.2997e-02,  4.4196e-02, -4.6042e-02,  5.2395e-02,\n",
              "       -1.3002e-01,  1.1440e-01, -1.5359e-01,  5.7565e-02,  1.3344e-01,\n",
              "       -6.4197e-02,  5.3679e-02,  1.3349e-01,  6.1268e-02, -2.4911e-03,\n",
              "        1.9382e-01,  4.4253e-02, -2.0858e-02, -8.0714e-02,  1.0053e-01,\n",
              "        5.8553e-02,  6.3155e-02, -2.9961e-02, -3.1906e-02,  5.6153e-02,\n",
              "        5.1014e-02,  1.0752e-01, -7.4407e-02,  9.1990e-02,  1.7744e-01,\n",
              "       -5.9959e-02,  1.4046e-01, -8.0201e-02,  4.3989e-02, -9.5205e-02,\n",
              "        1.3022e-02,  9.1900e-02,  2.4317e-02, -7.0992e-02, -1.5179e-01,\n",
              "       -3.0031e-02,  1.0344e-01, -5.8155e-02,  3.5950e-02, -5.5085e-02,\n",
              "        4.7587e-02, -1.4251e-01, -1.3986e-01, -1.3891e-01,  6.9042e-03,\n",
              "        9.0945e-02, -5.5156e-02,  6.8180e-02,  1.1948e-01,  7.8577e-03,\n",
              "        1.0014e-01, -4.2805e-02,  2.2362e-01, -2.6212e-02, -3.5302e-02,\n",
              "       -6.2687e-03, -1.0843e-01,  1.0872e-01,  2.8890e-02, -3.5473e-03,\n",
              "       -1.9498e-01, -7.5138e-02,  8.5332e-03, -1.0061e-01, -1.7855e-02,\n",
              "       -1.5515e-01,  5.3034e-02,  5.6923e-02,  1.2199e-01,  4.6883e-02,\n",
              "        2.1629e-02,  1.0586e-01,  1.6561e-01, -6.9487e-02,  5.4721e-02,\n",
              "       -3.8894e-02,  5.7113e-02,  1.3905e-02,  7.9968e-03,  2.0372e-02,\n",
              "        3.3724e-02,  8.9571e-02, -6.1825e-02,  8.8606e-02, -5.5677e-04,\n",
              "       -3.8857e-02, -4.9158e-02, -1.6729e-01, -1.8883e-02, -8.5901e-02,\n",
              "        5.5962e-02,  2.5990e-04, -9.9389e-02, -3.0678e-02,  1.9205e-01,\n",
              "       -1.5735e-01, -1.0431e-01,  8.2319e-02,  1.2595e-02,  9.2085e-02,\n",
              "       -5.6538e-02,  1.4844e-02,  9.3501e-02,  1.4248e-02,  7.2259e-02,\n",
              "       -5.5934e-02,  1.1639e-02, -5.8573e-02, -1.3317e-02,  6.1250e-02,\n",
              "       -5.5100e-02,  5.6260e-02,  1.2347e-01, -3.2506e-02,  3.3067e-02,\n",
              "       -2.5218e-02,  1.0814e-01, -5.6682e-02,  8.7505e-03, -4.8172e-02,\n",
              "       -6.4899e-02,  1.6328e-01, -7.9505e-02,  2.7262e-03,  1.3690e-01,\n",
              "       -6.1343e-02, -9.6471e-02,  1.5359e-01, -9.9349e-02,  4.0632e-03,\n",
              "       -1.9113e-01,  8.2199e-02, -2.5211e-02,  1.3088e-01, -3.7268e-02,\n",
              "        1.1964e-01,  8.6707e-02,  4.2749e-02, -1.5924e-03, -1.7589e-02,\n",
              "        4.7354e-02,  8.3091e-02, -6.5673e-03, -7.3253e-02, -1.0561e-01,\n",
              "       -9.5948e-02,  3.5908e-03,  8.2236e-02, -6.5011e-02,  2.0903e-02,\n",
              "       -4.8451e-02, -5.2236e-02, -8.7794e-02, -1.0255e-01,  1.1870e-02,\n",
              "       -5.4561e-02, -1.1820e-01,  6.9707e-02,  1.1088e-01,  4.9565e-02,\n",
              "       -1.6908e-01, -2.5972e-02,  1.7717e-01,  1.2777e-02, -2.1880e-01,\n",
              "       -3.6761e-02,  6.8808e-02, -3.7581e-02,  1.9503e-04, -7.8141e-03,\n",
              "        8.1960e-02, -1.0362e-01, -1.2003e-01, -5.1110e-02,  2.8537e-02,\n",
              "        1.0095e-01,  1.5120e-01, -4.0180e-02,  5.0266e-02,  7.5779e-03,\n",
              "       -4.2154e-02,  1.2446e-01,  1.2966e-01, -1.2152e-01,  3.6949e-02,\n",
              "       -1.5425e-01, -1.1030e-01,  1.3733e-02,  1.4245e-01,  1.3199e-02,\n",
              "        1.2274e-01,  6.2722e-02, -9.5067e-02,  1.1852e-01, -5.2969e-02,\n",
              "       -4.3863e-02, -8.2138e-02, -1.0900e-01, -1.2394e-01,  2.1520e-02,\n",
              "       -4.8022e-02, -7.6740e-02,  3.9333e-03,  2.7155e-02, -8.4467e-02,\n",
              "       -4.5000e-03, -5.6752e-02,  5.6311e-02, -2.7916e-02, -9.6325e-04,\n",
              "       -2.9923e-02,  2.1275e-01,  5.1629e-02,  6.0354e-02,  9.2330e-02,\n",
              "        7.5225e-03,  1.4324e-01,  5.3696e-02,  2.8918e-04, -1.1208e-01,\n",
              "       -1.4720e-02, -5.7640e-03,  3.5396e-02, -2.5289e-02, -1.4953e-02,\n",
              "        3.8573e-03, -5.4327e-02, -1.0364e-01,  7.9213e-02,  1.1286e-01,\n",
              "        2.8222e-01,  1.2950e-01,  4.0886e-02,  3.6691e-02,  5.1253e-02,\n",
              "        4.7032e-02,  3.4693e-02,  5.4439e-02,  1.2965e-01,  7.7064e-02,\n",
              "       -1.0494e-01,  1.3365e-03, -1.1190e-01, -1.0400e-03,  8.7689e-02,\n",
              "        3.5548e-02,  9.7216e-02, -9.7204e-02, -2.5457e-02, -4.9834e-02,\n",
              "       -2.9047e-02, -9.1388e-02, -2.3864e-02,  9.9744e-02, -8.0191e-02,\n",
              "        5.4590e-02,  2.3268e-02, -8.3031e-02, -8.0196e-02,  2.2590e-03,\n",
              "        9.1633e-02,  1.9678e-02, -6.8804e-02,  5.1628e-02,  3.0844e-02,\n",
              "       -1.8965e-01, -3.0205e-02, -9.2076e-04, -1.0805e-01,  1.4195e-02,\n",
              "        2.6702e-02, -8.9089e-02,  4.0170e-02, -1.9595e-02,  1.7595e-04,\n",
              "        1.6760e-01, -6.8750e-02,  8.3131e-02,  1.2923e-01,  1.1810e-01,\n",
              "       -1.4765e-03, -1.7965e-02,  1.0950e-01, -5.3695e-02,  3.3823e-02],\n",
              "      dtype=float32)"
            ]
          },
          "metadata": {
            "tags": []
          },
          "execution_count": 77
        }
      ]
    },
    {
      "metadata": {
        "id": "jGMxXx7xuL_i",
        "colab_type": "code",
        "colab": {
          "base_uri": "https://localhost:8080/",
          "height": 19370
        },
        "outputId": "f66c2917-dbfb-4f8a-f04c-a70570c34670"
      },
      "cell_type": "code",
      "source": [
        "list(iter(zh_model.vocab))"
      ],
      "execution_count": 83,
      "outputs": [
        {
          "output_type": "execute_result",
          "data": {
            "text/plain": [
              "['的',\n",
              " '</s>',\n",
              " '在',\n",
              " '是',\n",
              " '年',\n",
              " '和',\n",
              " '了',\n",
              " '於',\n",
              " '為',\n",
              " '有',\n",
              " '被',\n",
              " '中',\n",
              " '與',\n",
              " '也',\n",
              " '他',\n",
              " '年月日',\n",
              " '月',\n",
              " '而',\n",
              " '人',\n",
              " '为',\n",
              " '由',\n",
              " '上',\n",
              " '後',\n",
              " '等',\n",
              " '但',\n",
              " '及',\n",
              " '以',\n",
              " '都',\n",
              " '到',\n",
              " '不',\n",
              " '對',\n",
              " '一个',\n",
              " '与',\n",
              " '或',\n",
              " '之',\n",
              " '其',\n",
              " '可以',\n",
              " '使用',\n",
              " '就',\n",
              " '日',\n",
              " '至',\n",
              " '于',\n",
              " '香港',\n",
              " '中国',\n",
              " '來',\n",
              " '日本',\n",
              " '我',\n",
              " '并',\n",
              " '會',\n",
              " '所',\n",
              " '以及',\n",
              " '一個',\n",
              " '后',\n",
              " '其中',\n",
              " '下',\n",
              " '她',\n",
              " '時',\n",
              " '又',\n",
              " '曾',\n",
              " '对',\n",
              " '軍',\n",
              " '主要',\n",
              " '自己',\n",
              " '包括',\n",
              " '最',\n",
              " '将',\n",
              " '新',\n",
              " '其他',\n",
              " '公司',\n",
              " '地',\n",
              " '因此',\n",
              " '可',\n",
              " '從',\n",
              " '亦',\n",
              " '更',\n",
              " '站',\n",
              " '大',\n",
              " '臺',\n",
              " '已',\n",
              " '多',\n",
              " '說',\n",
              " '世界',\n",
              " '長',\n",
              " '它',\n",
              " '製',\n",
              " '政府',\n",
              " '可能',\n",
              " '向',\n",
              " '把',\n",
              " '要',\n",
              " '一',\n",
              " '用',\n",
              " '研究',\n",
              " '不同',\n",
              " '因為',\n",
              " '個',\n",
              " '台灣',\n",
              " '之一',\n",
              " '相似',\n",
              " '馬',\n",
              " '前',\n",
              " '但是',\n",
              " '一些',\n",
              " '內',\n",
              " '該',\n",
              " '这',\n",
              " '中國',\n",
              " '如果',\n",
              " '能',\n",
              " '工作',\n",
              " '时',\n",
              " '从',\n",
              " '成立',\n",
              " '位于',\n",
              " '文本',\n",
              " '所有',\n",
              " '米',\n",
              " '很',\n",
              " '開始',\n",
              " '小',\n",
              " '美国',\n",
              " '使',\n",
              " '中心',\n",
              " '因',\n",
              " '你',\n",
              " '即',\n",
              " '没有',\n",
              " '此',\n",
              " '美國',\n",
              " '提供',\n",
              " '時間',\n",
              " '約',\n",
              " '目前',\n",
              " '代表',\n",
              " '部分',\n",
              " '進行',\n",
              " '第一',\n",
              " '表示',\n",
              " '認為',\n",
              " '会',\n",
              " '管理',\n",
              " '进行',\n",
              " '他們',\n",
              " '成為',\n",
              " '不是',\n",
              " '作品',\n",
              " '道',\n",
              " '就是',\n",
              " '所以',\n",
              " '稱',\n",
              " '讓',\n",
              " '再',\n",
              " '需要',\n",
              " '文化',\n",
              " '公里',\n",
              " '如',\n",
              " '沒',\n",
              " '去',\n",
              " '成为',\n",
              " '年代',\n",
              " '一般',\n",
              " '正式',\n",
              " '开始',\n",
              " '較',\n",
              " '位',\n",
              " '出',\n",
              " '才',\n",
              " '重要',\n",
              " '地区',\n",
              " '卻',\n",
              " '當時',\n",
              " '事件',\n",
              " '加入',\n",
              " '作',\n",
              " '政治',\n",
              " '陳',\n",
              " '高',\n",
              " '由于',\n",
              " '国家',\n",
              " '还',\n",
              " '比',\n",
              " '该',\n",
              " '这个',\n",
              " '他们',\n",
              " '生活',\n",
              " '通过',\n",
              " '存在',\n",
              " '建立',\n",
              " '方式',\n",
              " '条目',\n",
              " '地區',\n",
              " '做',\n",
              " '地方',\n",
              " '副',\n",
              " '只',\n",
              " '人口',\n",
              " '復',\n",
              " '例如',\n",
              " '這個',\n",
              " '條目',\n",
              " '仍',\n",
              " '要求',\n",
              " '支持',\n",
              " '得',\n",
              " '法国',\n",
              " '另外',\n",
              " '认为',\n",
              " '只有',\n",
              " '城市',\n",
              " '另',\n",
              " '得到',\n",
              " '来',\n",
              " '提出',\n",
              " '个',\n",
              " '黃',\n",
              " '發現',\n",
              " '分布',\n",
              " '起',\n",
              " '問題',\n",
              " '一種',\n",
              " '同時',\n",
              " '受到',\n",
              " '型',\n",
              " '成功',\n",
              " '号',\n",
              " '便',\n",
              " '出現',\n",
              " '完成',\n",
              " '作为',\n",
              " '任何',\n",
              " '自',\n",
              " '通常',\n",
              " '發展',\n",
              " '具有',\n",
              " '第二',\n",
              " '属于',\n",
              " '教育',\n",
              " '著',\n",
              " '造成',\n",
              " '平方公里',\n",
              " '係',\n",
              " '而且',\n",
              " '则',\n",
              " '不能',\n",
              " '内',\n",
              " '上海',\n",
              " '方面',\n",
              " '無',\n",
              " '好',\n",
              " '最大',\n",
              " '里',\n",
              " '沒有',\n",
              " '均',\n",
              " '請',\n",
              " '大學',\n",
              " '國家',\n",
              " '自由',\n",
              " '非常',\n",
              " '学名',\n",
              " '雖然',\n",
              " '形成',\n",
              " '者',\n",
              " '獲得',\n",
              " '人物',\n",
              " '一直',\n",
              " '目的',\n",
              " '人民',\n",
              " '這些',\n",
              " '足球',\n",
              " '除了',\n",
              " '北京',\n",
              " '说',\n",
              " '一种',\n",
              " '获得',\n",
              " '未',\n",
              " '市镇',\n",
              " '三',\n",
              " '之后',\n",
              " '電影',\n",
              " '直接',\n",
              " '跟',\n",
              " '大学',\n",
              " '一次',\n",
              " '中央',\n",
              " '因为',\n",
              " '版本',\n",
              " '甚至',\n",
              " '完全',\n",
              " '女性',\n",
              " '話',\n",
              " '名',\n",
              " '達',\n",
              " '著名',\n",
              " '之前',\n",
              " '问题',\n",
              " '已经',\n",
              " '很多',\n",
              " '歷史',\n",
              " '社會',\n",
              " '接受',\n",
              " '增加',\n",
              " '郡',\n",
              " '省',\n",
              " '希望',\n",
              " '大量',\n",
              " '留言',\n",
              " '然而',\n",
              " '最高',\n",
              " '同时',\n",
              " '能力',\n",
              " '一起',\n",
              " '行政',\n",
              " '这些',\n",
              " '影响',\n",
              " '佈',\n",
              " '內容',\n",
              " '取得',\n",
              " '像',\n",
              " '以上',\n",
              " '工程',\n",
              " '角色',\n",
              " '一位',\n",
              " '羅',\n",
              " '命名',\n",
              " '发展',\n",
              " '那',\n",
              " '中文',\n",
              " '故事',\n",
              " '英國',\n",
              " '方法',\n",
              " '並且',\n",
              " '成',\n",
              " '系列',\n",
              " '這',\n",
              " '或者',\n",
              " '历史',\n",
              " '外',\n",
              " '死',\n",
              " '大陆',\n",
              " '電視',\n",
              " '系統',\n",
              " '間',\n",
              " '指',\n",
              " '影響',\n",
              " '出版',\n",
              " '處',\n",
              " '派',\n",
              " '活動',\n",
              " '不過',\n",
              " '利用',\n",
              " '只是',\n",
              " '控制',\n",
              " '設計',\n",
              " '擔任',\n",
              " '合作',\n",
              " '發生',\n",
              " '有限公司',\n",
              " '当时',\n",
              " '内容',\n",
              " '百科',\n",
              " '非',\n",
              " '植物',\n",
              " '前往',\n",
              " '首次',\n",
              " '今',\n",
              " '們',\n",
              " '附近',\n",
              " '維基',\n",
              " '之間',\n",
              " '歲',\n",
              " '主席',\n",
              " '发现',\n",
              " '最佳',\n",
              " '路',\n",
              " '縣',\n",
              " '寫',\n",
              " '系统',\n",
              " '已經',\n",
              " '印度',\n",
              " '村',\n",
              " '着',\n",
              " '航空',\n",
              " '遊戲',\n",
              " '有人',\n",
              " '此外',\n",
              " '作為',\n",
              " '且',\n",
              " '併',\n",
              " '比賽',\n",
              " '一名',\n",
              " '知道',\n",
              " '組織',\n",
              " '您',\n",
              " '铁路',\n",
              " '出现',\n",
              " '事',\n",
              " '英文',\n",
              " '重新',\n",
              " '皆',\n",
              " '根據',\n",
              " '时间',\n",
              " '原因',\n",
              " '各',\n",
              " '根据',\n",
              " '東',\n",
              " '時期',\n",
              " '國際',\n",
              " '国际',\n",
              " '州',\n",
              " '節目',\n",
              " '擁有',\n",
              " '属',\n",
              " '資料',\n",
              " '本',\n",
              " '殺',\n",
              " '想',\n",
              " '德国',\n",
              " '總',\n",
              " '巴士',\n",
              " '並',\n",
              " '两个',\n",
              " '字',\n",
              " '包含',\n",
              " '町',\n",
              " '位置',\n",
              " '之间',\n",
              " '县',\n",
              " '给',\n",
              " '是否',\n",
              " '功能',\n",
              " '让',\n",
              " '進入',\n",
              " '编辑',\n",
              " '发生',\n",
              " '決定',\n",
              " '学校',\n",
              " '形式',\n",
              " '参加',\n",
              " '称为',\n",
              " '使得',\n",
              " '每',\n",
              " '看',\n",
              " '组织',\n",
              " '專輯',\n",
              " '世纪',\n",
              " '若',\n",
              " '北部',\n",
              " '推出',\n",
              " '舉行',\n",
              " '共同',\n",
              " '特別',\n",
              " '線',\n",
              " '电影',\n",
              " '英国',\n",
              " '名字',\n",
              " '受',\n",
              " '一定',\n",
              " '第',\n",
              " '方向',\n",
              " '同',\n",
              " '用户',\n",
              " '约',\n",
              " '仍然',\n",
              " '学院',\n",
              " '男性',\n",
              " '以下',\n",
              " '演出',\n",
              " '同年',\n",
              " '直到',\n",
              " '加上',\n",
              " '过',\n",
              " '文字',\n",
              " '黨',\n",
              " '教授',\n",
              " '西班牙',\n",
              " '全部',\n",
              " '再次',\n",
              " '唯一',\n",
              " '原',\n",
              " '台',\n",
              " '負責',\n",
              " '一座',\n",
              " '南部',\n",
              " '許多',\n",
              " '討論',\n",
              " '兩個',\n",
              " '第三',\n",
              " '任',\n",
              " '小行星',\n",
              " '地球',\n",
              " '设计',\n",
              " '这种',\n",
              " '見',\n",
              " '民主',\n",
              " '歌曲',\n",
              " '投票',\n",
              " '分別',\n",
              " '相同',\n",
              " '服務',\n",
              " '中華民國',\n",
              " '學校',\n",
              " '宣布',\n",
              " '情况',\n",
              " '人士',\n",
              " '員',\n",
              " '式',\n",
              " '许多',\n",
              " '戰爭',\n",
              " '模板',\n",
              " '相關',\n",
              " '法律',\n",
              " '后来',\n",
              " '編輯',\n",
              " '全国',\n",
              " '無法',\n",
              " '大部分',\n",
              " '二',\n",
              " '不少',\n",
              " '歐洲',\n",
              " '死亡',\n",
              " '帶',\n",
              " '建筑',\n",
              " '保留',\n",
              " '結果',\n",
              " '灣',\n",
              " '游戏',\n",
              " '發行',\n",
              " '情況',\n",
              " '這種',\n",
              " '期間',\n",
              " '經濟',\n",
              " '区',\n",
              " '技术',\n",
              " '共和',\n",
              " '进入',\n",
              " '原本',\n",
              " '早期',\n",
              " '政策',\n",
              " '有些',\n",
              " '綫',\n",
              " '时期',\n",
              " '为了',\n",
              " '模式',\n",
              " '女',\n",
              " '通過',\n",
              " '居民',\n",
              " '最終',\n",
              " '并且',\n",
              " '參加',\n",
              " '及其',\n",
              " '播出',\n",
              " '大型',\n",
              " '经济',\n",
              " '民族',\n",
              " '担任',\n",
              " '我们',\n",
              " '科',\n",
              " '度',\n",
              " '一部分',\n",
              " '委员会',\n",
              " '萬',\n",
              " '音樂',\n",
              " '描述',\n",
              " '攻擊',\n",
              " '版',\n",
              " '第一次',\n",
              " '西',\n",
              " '提交',\n",
              " '區',\n",
              " '看到',\n",
              " '单位',\n",
              " '现在',\n",
              " '相當',\n",
              " '低',\n",
              " '複',\n",
              " '最后',\n",
              " '國',\n",
              " '出生',\n",
              " '作用',\n",
              " '全球',\n",
              " '必須',\n",
              " '基本',\n",
              " '獨立',\n",
              " '四',\n",
              " '市',\n",
              " '讨论',\n",
              " '当',\n",
              " '機場',\n",
              " '結束',\n",
              " '列表',\n",
              " '盃',\n",
              " '次',\n",
              " '成員',\n",
              " '子',\n",
              " '官方',\n",
              " '組成',\n",
              " '女子',\n",
              " '安全',\n",
              " '指出',\n",
              " '分',\n",
              " '引起',\n",
              " '維基人',\n",
              " '期间',\n",
              " '頁',\n",
              " '镇',\n",
              " '南',\n",
              " '演唱',\n",
              " '加拿大',\n",
              " '我們',\n",
              " '或是',\n",
              " '年度',\n",
              " '一部',\n",
              " '力量',\n",
              " '運動',\n",
              " '學生',\n",
              " '每年',\n",
              " '主任',\n",
              " '十分',\n",
              " '主持',\n",
              " '计划',\n",
              " '对于',\n",
              " '自然',\n",
              " '活动',\n",
              " '反',\n",
              " '速度',\n",
              " '产生',\n",
              " '總統',\n",
              " '一樣',\n",
              " '遭到',\n",
              " '制度',\n",
              " '正',\n",
              " '采用',\n",
              " '用于',\n",
              " '隊',\n",
              " '先',\n",
              " '最早',\n",
              " '一年',\n",
              " '顯示',\n",
              " '武器',\n",
              " '兼',\n",
              " '生物',\n",
              " '这样',\n",
              " '地位',\n",
              " '拥有',\n",
              " '五',\n",
              " '最初',\n",
              " '拍',\n",
              " '还有',\n",
              " '请',\n",
              " '澳門',\n",
              " '取代',\n",
              " '公路',\n",
              " '打',\n",
              " '玩家',\n",
              " '街道',\n",
              " '時候',\n",
              " '單位',\n",
              " '社会',\n",
              " '决定',\n",
              " '這是',\n",
              " '最终',\n",
              " '虽然',\n",
              " '造',\n",
              " '皇帝',\n",
              " '計劃',\n",
              " '种',\n",
              " '而是',\n",
              " '身份',\n",
              " '車站',\n",
              " '王',\n",
              " '快速',\n",
              " '北',\n",
              " '交通',\n",
              " '台北',\n",
              " '意大利',\n",
              " '却',\n",
              " '道路',\n",
              " '保护',\n",
              " '聯賽',\n",
              " '尚未',\n",
              " '回到',\n",
              " '集團',\n",
              " '越南',\n",
              " '超過',\n",
              " '关于',\n",
              " '中共',\n",
              " '学生',\n",
              " '科技',\n",
              " '修改',\n",
              " '中华人民共和国',\n",
              " '维基',\n",
              " '称',\n",
              " '部份',\n",
              " '這樣',\n",
              " '导致',\n",
              " '确定',\n",
              " '新聞',\n",
              " '佔',\n",
              " '名稱',\n",
              " '理由',\n",
              " '本人',\n",
              " '選舉',\n",
              " '革命',\n",
              " '欧洲',\n",
              " '共',\n",
              " '父親',\n",
              " '元',\n",
              " '採用',\n",
              " '書',\n",
              " '本身',\n",
              " '改為',\n",
              " '現時',\n",
              " '技術',\n",
              " '宗教',\n",
              " '大家',\n",
              " '特色',\n",
              " '路線',\n",
              " '標準',\n",
              " '唱片',\n",
              " '家庭',\n",
              " '土地',\n",
              " '分别',\n",
              " '海拔',\n",
              " '较',\n",
              " '只能',\n",
              " '语言',\n",
              " '大多',\n",
              " '组成',\n",
              " '因而',\n",
              " '發',\n",
              " '至今',\n",
              " '比赛',\n",
              " '多次',\n",
              " '信息',\n",
              " '有關',\n",
              " '走',\n",
              " '繼續',\n",
              " '傳統',\n",
              " '用戶',\n",
              " '程度',\n",
              " '交流',\n",
              " '限制',\n",
              " '還有',\n",
              " '天主教',\n",
              " '不久',\n",
              " '三年',\n",
              " '过程',\n",
              " '刪除',\n",
              " '独立',\n",
              " '战争',\n",
              " '行動',\n",
              " '删除',\n",
              " '故',\n",
              " '元年',\n",
              " '應該',\n",
              " '表演',\n",
              " '屆',\n",
              " '家族',\n",
              " '公尺',\n",
              " '应该',\n",
              " '概念',\n",
              " '左右',\n",
              " '透過',\n",
              " '平均',\n",
              " '經過',\n",
              " '時代',\n",
              " '清朝',\n",
              " '法',\n",
              " '將',\n",
              " '车站',\n",
              " '能夠',\n",
              " '不會',\n",
              " '應',\n",
              " '关系',\n",
              " '立法',\n",
              " '如何',\n",
              " '接近',\n",
              " '基地',\n",
              " '法國',\n",
              " '獲',\n",
              " '生长',\n",
              " '當地',\n",
              " '等等',\n",
              " '往',\n",
              " '建造',\n",
              " '文章',\n",
              " '人類',\n",
              " '相关',\n",
              " '參',\n",
              " '总统',\n",
              " '运动',\n",
              " '媒體',\n",
              " '不要',\n",
              " '牠',\n",
              " '以前',\n",
              " '又名',\n",
              " '座',\n",
              " '山',\n",
              " '隻',\n",
              " '分析',\n",
              " '西部',\n",
              " '德',\n",
              " '特殊',\n",
              " '某些',\n",
              " '學',\n",
              " '居住',\n",
              " '青年',\n",
              " '其它',\n",
              " '来源',\n",
              " '还是',\n",
              " '保持',\n",
              " '来自',\n",
              " '兩',\n",
              " '街',\n",
              " '维基百科',\n",
              " '主',\n",
              " '環境',\n",
              " '首都',\n",
              " '作家',\n",
              " '吧',\n",
              " '按',\n",
              " '占',\n",
              " '元素',\n",
              " '還是',\n",
              " '學院',\n",
              " '符合',\n",
              " '歌手',\n",
              " '拉',\n",
              " '普通',\n",
              " '经过',\n",
              " '研究所',\n",
              " '朋友',\n",
              " '尤其',\n",
              " '地下',\n",
              " '同一',\n",
              " '公共',\n",
              " '作者',\n",
              " '同意',\n",
              " '南京',\n",
              " '容易',\n",
              " '注意',\n",
              " '段',\n",
              " '理據',\n",
              " '播放',\n",
              " '避免',\n",
              " '作出',\n",
              " '家',\n",
              " '世紀',\n",
              " '處理',\n",
              " '入侵',\n",
              " '达到',\n",
              " '不过',\n",
              " '天津',\n",
              " '太',\n",
              " '结构',\n",
              " '建设',\n",
              " '六',\n",
              " '新加坡',\n",
              " '找到',\n",
              " '时候',\n",
              " '第二次',\n",
              " '兄弟',\n",
              " '註',\n",
              " '失去',\n",
              " '生产',\n",
              " '計畫',\n",
              " '参与',\n",
              " '市場',\n",
              " '列车',\n",
              " '支援',\n",
              " '畢業',\n",
              " '之中',\n",
              " '公分',\n",
              " '页面',\n",
              " '改善',\n",
              " '棲息',\n",
              " '中華',\n",
              " '一段',\n",
              " '調查',\n",
              " '正在',\n",
              " '它们',\n",
              " '電',\n",
              " '男子',\n",
              " '共有',\n",
              " '苏联',\n",
              " '寺',\n",
              " '之外',\n",
              " '岁',\n",
              " '先生',\n",
              " '面積',\n",
              " '城',\n",
              " '呈',\n",
              " '手',\n",
              " '西方',\n",
              " '實際',\n",
              " '举行',\n",
              " '公園',\n",
              " '集中',\n",
              " '去世',\n",
              " '張',\n",
              " '标准',\n",
              " '太平洋',\n",
              " '生于',\n",
              " '一家',\n",
              " '開',\n",
              " '級',\n",
              " '基金',\n",
              " '流行',\n",
              " '超过',\n",
              " '成员',\n",
              " '語言',\n",
              " '博士',\n",
              " '性',\n",
              " '能够',\n",
              " '服务',\n",
              " '总人口',\n",
              " '初期',\n",
              " '理论',\n",
              " '才能',\n",
              " '人工',\n",
              " '委員會',\n",
              " '以外',\n",
              " '教堂',\n",
              " '令',\n",
              " '自年',\n",
              " '制作',\n",
              " '回',\n",
              " '保護',\n",
              " '特别',\n",
              " '各種',\n",
              " '不再',\n",
              " '无法',\n",
              " '出任',\n",
              " '军队',\n",
              " '精神',\n",
              " '簡稱',\n",
              " '们',\n",
              " '妻子',\n",
              " '意思',\n",
              " '改革',\n",
              " '球隊',\n",
              " '金',\n",
              " '建議',\n",
              " '機構',\n",
              " '拿',\n",
              " '高中',\n",
              " '海域',\n",
              " '中部',\n",
              " '鐵路',\n",
              " '提名',\n",
              " '即使',\n",
              " '至少',\n",
              " '如此',\n",
              " '王朝',\n",
              " '方案',\n",
              " '執行',\n",
              " '思想',\n",
              " '结果',\n",
              " '只要',\n",
              " '建築',\n",
              " '需',\n",
              " '過程',\n",
              " '行',\n",
              " '漫畫',\n",
              " '曾經',\n",
              " '各地',\n",
              " '美元',\n",
              " '短',\n",
              " '照片',\n",
              " '非洲',\n",
              " '那些',\n",
              " '電子',\n",
              " '有效',\n",
              " '未能',\n",
              " '提升',\n",
              " '舉辦',\n",
              " '传统',\n",
              " '生命',\n",
              " '社区',\n",
              " '團體',\n",
              " '真正',\n",
              " '继续',\n",
              " '面积',\n",
              " '四川',\n",
              " '球队',\n",
              " '叫',\n",
              " '電腦',\n",
              " '反应',\n",
              " '蒙古',\n",
              " '机场',\n",
              " '改名',\n",
              " '任命',\n",
              " '髮',\n",
              " '找',\n",
              " '聯盟',\n",
              " '项目',\n",
              " '砲',\n",
              " '除',\n",
              " '改變',\n",
              " '音乐',\n",
              " ...]"
            ]
          },
          "metadata": {
            "tags": []
          },
          "execution_count": 83
        }
      ]
    },
    {
      "metadata": {
        "id": "lVZobYXruPdt",
        "colab_type": "code",
        "colab": {
          "base_uri": "https://localhost:8080/",
          "height": 1197
        },
        "outputId": "2a2ce619-3c78-47e1-db3c-350b4e771c42"
      },
      "cell_type": "code",
      "source": [
        "zh_model[next(iter(zh_model.vocab))]"
      ],
      "execution_count": 84,
      "outputs": [
        {
          "output_type": "execute_result",
          "data": {
            "text/plain": [
              "array([ 8.6988e-02,  9.1123e-02,  3.0722e-02,  3.4160e-03,  2.7568e-02,\n",
              "        5.4995e-03,  1.0905e-01,  4.9999e-02, -1.9161e-01,  4.2729e-02,\n",
              "        1.3284e-01, -4.2997e-02,  4.4196e-02, -4.6042e-02,  5.2395e-02,\n",
              "       -1.3002e-01,  1.1440e-01, -1.5359e-01,  5.7565e-02,  1.3344e-01,\n",
              "       -6.4197e-02,  5.3679e-02,  1.3349e-01,  6.1268e-02, -2.4911e-03,\n",
              "        1.9382e-01,  4.4253e-02, -2.0858e-02, -8.0714e-02,  1.0053e-01,\n",
              "        5.8553e-02,  6.3155e-02, -2.9961e-02, -3.1906e-02,  5.6153e-02,\n",
              "        5.1014e-02,  1.0752e-01, -7.4407e-02,  9.1990e-02,  1.7744e-01,\n",
              "       -5.9959e-02,  1.4046e-01, -8.0201e-02,  4.3989e-02, -9.5205e-02,\n",
              "        1.3022e-02,  9.1900e-02,  2.4317e-02, -7.0992e-02, -1.5179e-01,\n",
              "       -3.0031e-02,  1.0344e-01, -5.8155e-02,  3.5950e-02, -5.5085e-02,\n",
              "        4.7587e-02, -1.4251e-01, -1.3986e-01, -1.3891e-01,  6.9042e-03,\n",
              "        9.0945e-02, -5.5156e-02,  6.8180e-02,  1.1948e-01,  7.8577e-03,\n",
              "        1.0014e-01, -4.2805e-02,  2.2362e-01, -2.6212e-02, -3.5302e-02,\n",
              "       -6.2687e-03, -1.0843e-01,  1.0872e-01,  2.8890e-02, -3.5473e-03,\n",
              "       -1.9498e-01, -7.5138e-02,  8.5332e-03, -1.0061e-01, -1.7855e-02,\n",
              "       -1.5515e-01,  5.3034e-02,  5.6923e-02,  1.2199e-01,  4.6883e-02,\n",
              "        2.1629e-02,  1.0586e-01,  1.6561e-01, -6.9487e-02,  5.4721e-02,\n",
              "       -3.8894e-02,  5.7113e-02,  1.3905e-02,  7.9968e-03,  2.0372e-02,\n",
              "        3.3724e-02,  8.9571e-02, -6.1825e-02,  8.8606e-02, -5.5677e-04,\n",
              "       -3.8857e-02, -4.9158e-02, -1.6729e-01, -1.8883e-02, -8.5901e-02,\n",
              "        5.5962e-02,  2.5990e-04, -9.9389e-02, -3.0678e-02,  1.9205e-01,\n",
              "       -1.5735e-01, -1.0431e-01,  8.2319e-02,  1.2595e-02,  9.2085e-02,\n",
              "       -5.6538e-02,  1.4844e-02,  9.3501e-02,  1.4248e-02,  7.2259e-02,\n",
              "       -5.5934e-02,  1.1639e-02, -5.8573e-02, -1.3317e-02,  6.1250e-02,\n",
              "       -5.5100e-02,  5.6260e-02,  1.2347e-01, -3.2506e-02,  3.3067e-02,\n",
              "       -2.5218e-02,  1.0814e-01, -5.6682e-02,  8.7505e-03, -4.8172e-02,\n",
              "       -6.4899e-02,  1.6328e-01, -7.9505e-02,  2.7262e-03,  1.3690e-01,\n",
              "       -6.1343e-02, -9.6471e-02,  1.5359e-01, -9.9349e-02,  4.0632e-03,\n",
              "       -1.9113e-01,  8.2199e-02, -2.5211e-02,  1.3088e-01, -3.7268e-02,\n",
              "        1.1964e-01,  8.6707e-02,  4.2749e-02, -1.5924e-03, -1.7589e-02,\n",
              "        4.7354e-02,  8.3091e-02, -6.5673e-03, -7.3253e-02, -1.0561e-01,\n",
              "       -9.5948e-02,  3.5908e-03,  8.2236e-02, -6.5011e-02,  2.0903e-02,\n",
              "       -4.8451e-02, -5.2236e-02, -8.7794e-02, -1.0255e-01,  1.1870e-02,\n",
              "       -5.4561e-02, -1.1820e-01,  6.9707e-02,  1.1088e-01,  4.9565e-02,\n",
              "       -1.6908e-01, -2.5972e-02,  1.7717e-01,  1.2777e-02, -2.1880e-01,\n",
              "       -3.6761e-02,  6.8808e-02, -3.7581e-02,  1.9503e-04, -7.8141e-03,\n",
              "        8.1960e-02, -1.0362e-01, -1.2003e-01, -5.1110e-02,  2.8537e-02,\n",
              "        1.0095e-01,  1.5120e-01, -4.0180e-02,  5.0266e-02,  7.5779e-03,\n",
              "       -4.2154e-02,  1.2446e-01,  1.2966e-01, -1.2152e-01,  3.6949e-02,\n",
              "       -1.5425e-01, -1.1030e-01,  1.3733e-02,  1.4245e-01,  1.3199e-02,\n",
              "        1.2274e-01,  6.2722e-02, -9.5067e-02,  1.1852e-01, -5.2969e-02,\n",
              "       -4.3863e-02, -8.2138e-02, -1.0900e-01, -1.2394e-01,  2.1520e-02,\n",
              "       -4.8022e-02, -7.6740e-02,  3.9333e-03,  2.7155e-02, -8.4467e-02,\n",
              "       -4.5000e-03, -5.6752e-02,  5.6311e-02, -2.7916e-02, -9.6325e-04,\n",
              "       -2.9923e-02,  2.1275e-01,  5.1629e-02,  6.0354e-02,  9.2330e-02,\n",
              "        7.5225e-03,  1.4324e-01,  5.3696e-02,  2.8918e-04, -1.1208e-01,\n",
              "       -1.4720e-02, -5.7640e-03,  3.5396e-02, -2.5289e-02, -1.4953e-02,\n",
              "        3.8573e-03, -5.4327e-02, -1.0364e-01,  7.9213e-02,  1.1286e-01,\n",
              "        2.8222e-01,  1.2950e-01,  4.0886e-02,  3.6691e-02,  5.1253e-02,\n",
              "        4.7032e-02,  3.4693e-02,  5.4439e-02,  1.2965e-01,  7.7064e-02,\n",
              "       -1.0494e-01,  1.3365e-03, -1.1190e-01, -1.0400e-03,  8.7689e-02,\n",
              "        3.5548e-02,  9.7216e-02, -9.7204e-02, -2.5457e-02, -4.9834e-02,\n",
              "       -2.9047e-02, -9.1388e-02, -2.3864e-02,  9.9744e-02, -8.0191e-02,\n",
              "        5.4590e-02,  2.3268e-02, -8.3031e-02, -8.0196e-02,  2.2590e-03,\n",
              "        9.1633e-02,  1.9678e-02, -6.8804e-02,  5.1628e-02,  3.0844e-02,\n",
              "       -1.8965e-01, -3.0205e-02, -9.2076e-04, -1.0805e-01,  1.4195e-02,\n",
              "        2.6702e-02, -8.9089e-02,  4.0170e-02, -1.9595e-02,  1.7595e-04,\n",
              "        1.6760e-01, -6.8750e-02,  8.3131e-02,  1.2923e-01,  1.1810e-01,\n",
              "       -1.4765e-03, -1.7965e-02,  1.0950e-01, -5.3695e-02,  3.3823e-02],\n",
              "      dtype=float32)"
            ]
          },
          "metadata": {
            "tags": []
          },
          "execution_count": 84
        }
      ]
    },
    {
      "metadata": {
        "id": "2OIjtG0Uvz2I",
        "colab_type": "code",
        "colab": {
          "base_uri": "https://localhost:8080/",
          "height": 37
        },
        "outputId": "1ffc5c41-5df4-419e-b356-6127e29df16d"
      },
      "cell_type": "code",
      "source": [
        "len(zh_model[next(iter(zh_model.vocab))])"
      ],
      "execution_count": 88,
      "outputs": [
        {
          "output_type": "execute_result",
          "data": {
            "text/plain": [
              "300"
            ]
          },
          "metadata": {
            "tags": []
          },
          "execution_count": 88
        }
      ]
    },
    {
      "metadata": {
        "id": "8PVlPh7nvRQd",
        "colab_type": "code",
        "colab": {
          "base_uri": "https://localhost:8080/",
          "height": 19370
        },
        "outputId": "312334b3-718f-4388-825d-b80f0904a675"
      },
      "cell_type": "code",
      "source": [
        "word_index"
      ],
      "execution_count": 87,
      "outputs": [
        {
          "output_type": "execute_result",
          "data": {
            "text/plain": [
              "{'，': 1,\n",
              " '的': 2,\n",
              " '了': 3,\n",
              " '。': 4,\n",
              " '\\xa0': 5,\n",
              " '！': 6,\n",
              " '是': 7,\n",
              " '吃': 8,\n",
              " '很': 9,\n",
              " '也': 10,\n",
              " '都': 11,\n",
              " '不': 12,\n",
              " '味道': 13,\n",
              " '就': 14,\n",
              " '还': 15,\n",
              " '我': 16,\n",
              " '不错': 17,\n",
              " '去': 18,\n",
              " '好': 19,\n",
              " '菜': 20,\n",
              " '没有': 21,\n",
              " '好吃': 22,\n",
              " '说': 23,\n",
              " '有': 24,\n",
              " '人': 25,\n",
              " '就是': 26,\n",
              " '点': 27,\n",
              " '服务员': 28,\n",
              " '可以': 29,\n",
              " '和': 30,\n",
              " '没': 31,\n",
              " '…': 32,\n",
              " '我们': 33,\n",
              " '等': 34,\n",
              " '来': 35,\n",
              " '多': 36,\n",
              " '一般': 37,\n",
              " '在': 38,\n",
              " '吧': 39,\n",
              " '上': 40,\n",
              " '环境': 41,\n",
              " '一个': 42,\n",
              " '还是': 43,\n",
              " '菜品': 44,\n",
              " '服务': 45,\n",
              " '但是': 46,\n",
              " '给': 47,\n",
              " '排队': 48,\n",
              " '到': 49,\n",
              " '感觉': 50,\n",
              " '口味': 51,\n",
              " '喜欢': 52,\n",
              " '？': 53,\n",
              " '真的': 54,\n",
              " '太': 55,\n",
              " '再': 56,\n",
              " '挺': 57,\n",
              " '什么': 58,\n",
              " '啊': 59,\n",
              " '要': 60,\n",
              " '特别': 61,\n",
              " '大': 62,\n",
              " '推荐': 63,\n",
              " '比较': 64,\n",
              " '不是': 65,\n",
              " '这': 66,\n",
              " '不会': 67,\n",
              " '有点': 68,\n",
              " '觉得': 69,\n",
              " '很多': 70,\n",
              " '～': 71,\n",
              " '你': 72,\n",
              " '号': 73,\n",
              " '还有': 74,\n",
              " '知道': 75,\n",
              " '店': 76,\n",
              " '、': 77,\n",
              " '才': 78,\n",
              " '又': 79,\n",
              " '这个': 80,\n",
              " '上菜': 81,\n",
              " '小': 82,\n",
              " '小时': 83,\n",
              " '这么': 84,\n",
              " '非常': 85,\n",
              " '做': 86,\n",
              " '里面': 87,\n",
              " '家': 88,\n",
              " '着': 89,\n",
              " '个': 90,\n",
              " '肉': 91,\n",
              " '时候': 92,\n",
              " '而且': 93,\n",
              " '东西': 94,\n",
              " '过': 95,\n",
              " '但': 96,\n",
              " '朋友': 97,\n",
              " '会': 98,\n",
              " '那么': 99,\n",
              " '让': 100,\n",
              " '不过': 101,\n",
              " '拿': 102,\n",
              " '点评': 103,\n",
              " '这家': 104,\n",
              " '汤': 105,\n",
              " '排骨': 106,\n",
              " '完': 107,\n",
              " '因为': 108,\n",
              " '想': 109,\n",
              " '跟': 110,\n",
              " '最后': 111,\n",
              " '两个': 112,\n",
              " '看': 113,\n",
              " '最': 114,\n",
              " '娜娜': 115,\n",
              " '差': 116,\n",
              " '以后': 117,\n",
              " '天津': 118,\n",
              " '呢': 119,\n",
              " '那个': 120,\n",
              " '那': 121,\n",
              " '其他': 122,\n",
              " '一次': 123,\n",
              " '不能': 124,\n",
              " '烤': 125,\n",
              " '烤肉': 126,\n",
              " '价格': 127,\n",
              " '能': 128,\n",
              " '超级': 129,\n",
              " '吗': 130,\n",
              " '难吃': 131,\n",
              " '应该': 132,\n",
              " '所以': 133,\n",
              " '得': 134,\n",
              " '虾': 135,\n",
              " '量': 136,\n",
              " '这次': 137,\n",
              " '鱼': 138,\n",
              " '叫': 139,\n",
              " '一直': 140,\n",
              " '沙拉': 141,\n",
              " '失望': 142,\n",
              " '时间': 143,\n",
              " '饭': 144,\n",
              " '奶酪': 145,\n",
              " '拉皮': 146,\n",
              " '真心': 147,\n",
              " '为什么': 148,\n",
              " '每次': 149,\n",
              " '不好': 150,\n",
              " '态度': 151,\n",
              " '吃饭': 152,\n",
              " '这样': 153,\n",
              " '真是': 154,\n",
              " '用': 155,\n",
              " '甜': 156,\n",
              " '一点': 157,\n",
              " '把': 158,\n",
              " '熏': 159,\n",
              " '喝': 160,\n",
              " '点菜': 161,\n",
              " '下次': 162,\n",
              " '怎么': 163,\n",
              " '一样': 164,\n",
              " '自己': 165,\n",
              " '已经': 166,\n",
              " '大家': 167,\n",
              " '比': 168,\n",
              " '总体': 169,\n",
              " '腻': 170,\n",
              " '进去': 171,\n",
              " '门口': 172,\n",
              " '地方': 173,\n",
              " '上来': 174,\n",
              " '排': 175,\n",
              " '菜单': 176,\n",
              " '鸡': 177,\n",
              " '实在': 178,\n",
              " '第一次': 179,\n",
              " '被': 180,\n",
              " '带': 181,\n",
              " '然后': 182,\n",
              " '梨': 183,\n",
              " '蛋糕': 184,\n",
              " '锅包肉': 185,\n",
              " '咸': 186,\n",
              " '慢': 187,\n",
              " '之前': 188,\n",
              " '菜量': 189,\n",
              " '口感': 190,\n",
              " '一': 191,\n",
              " '结果': 192,\n",
              " '：': 193,\n",
              " '餐厅': 194,\n",
              " '他': 195,\n",
              " '新鲜': 196,\n",
              " '点餐': 197,\n",
              " '今天': 198,\n",
              " '开始': 199,\n",
              " '一家': 200,\n",
              " '高': 201,\n",
              " '里': 202,\n",
              " '服务态度': 203,\n",
              " '贵': 204,\n",
              " '妈妈': 205,\n",
              " '蛏子': 206,\n",
              " '可能': 207,\n",
              " '问': 208,\n",
              " '特色': 209,\n",
              " '你们': 210,\n",
              " '大众': 211,\n",
              " '有些': 212,\n",
              " '【': 213,\n",
              " '】': 214,\n",
              " '只能': 215,\n",
              " '一下': 216,\n",
              " '他家': 217,\n",
              " '大悦': 218,\n",
              " '牛肉': 219,\n",
              " '需要': 220,\n",
              " '对': 221,\n",
              " '出来': 222,\n",
              " '面': 223,\n",
              " '干酪': 224,\n",
              " '适合': 225,\n",
              " '饮料': 226,\n",
              " '不要': 227,\n",
              " '没什么': 228,\n",
              " '罐子': 229,\n",
              " '爱': 230,\n",
              " '走': 231,\n",
              " '希望': 232,\n",
              " '等位': 233,\n",
              " '自助': 234,\n",
              " '个人': 235,\n",
              " '以前': 236,\n",
              " '芝士': 237,\n",
              " '后': 238,\n",
              " '现在': 239,\n",
              " '好多': 240,\n",
              " '快': 241,\n",
              " '焗': 242,\n",
              " '告诉': 243,\n",
              " '算': 244,\n",
              " '过来': 245,\n",
              " '坐': 246,\n",
              " '一份': 247,\n",
              " '如果': 248,\n",
              " '豆腐': 249,\n",
              " '中午': 250,\n",
              " '提前': 251,\n",
              " '其实': 252,\n",
              " '行': 253,\n",
              " '元': 254,\n",
              " '人多': 255,\n",
              " '这里': 256,\n",
              " '一起': 257,\n",
              " '味': 258,\n",
              " '孩子': 259,\n",
              " '根本': 260,\n",
              " '啦': 261,\n",
              " '北京': 262,\n",
              " '还好': 263,\n",
              " '几个': 264,\n",
              " '时': 265,\n",
              " '2': 266,\n",
              " '三个': 267,\n",
              " '性价比': 268,\n",
              " '）': 269,\n",
              " '好评': 270,\n",
              " '总之': 271,\n",
              " '人太多': 272,\n",
              " '甜品': 273,\n",
              " '顾客': 274,\n",
              " '种类': 275,\n",
              " '炒': 276,\n",
              " '不如': 277,\n",
              " '评价': 278,\n",
              " '放': 279,\n",
              " '中': 280,\n",
              " '（': 281,\n",
              " '基本': 282,\n",
              " '起来': 283,\n",
              " '从': 284,\n",
              " '辣': 285,\n",
              " '虽然': 286,\n",
              " '第二次': 287,\n",
              " '只是': 288,\n",
              " '值得': 289,\n",
              " '城': 290,\n",
              " '很大': 291,\n",
              " '倒': 292,\n",
              " '可是': 293,\n",
              " '；': 294,\n",
              " '真': 295,\n",
              " '还会': 296,\n",
              " '下': 297,\n",
              " '茄子': 298,\n",
              " '招牌': 299,\n",
              " '找': 300,\n",
              " '结账': 301,\n",
              " '完全': 302,\n",
              " '除了': 303,\n",
              " '1': 304,\n",
              " '桌子': 305,\n",
              " '之后': 306,\n",
              " '位置': 307,\n",
              " '不到': 308,\n",
              " '居然': 309,\n",
              " '”': 310,\n",
              " '4': 311,\n",
              " '开业': 312,\n",
              " '外面': 313,\n",
              " '主食': 314,\n",
              " '这种': 315,\n",
              " '并': 316,\n",
              " '几次': 317,\n",
              " '“': 318,\n",
              " '海鲜': 319,\n",
              " '少': 320,\n",
              " '发现': 321,\n",
              " '差评': 322,\n",
              " '鸡肉': 323,\n",
              " '客人': 324,\n",
              " '恒隆': 325,\n",
              " '速度': 326,\n",
              " '像': 327,\n",
              " '火': 328,\n",
              " '满意': 329,\n",
              " '不了': 330,\n",
              " '只有': 331,\n",
              " '梨球': 332,\n",
              " '5': 333,\n",
              " '哦': 334,\n",
              " '柠檬': 335,\n",
              " '再来': 336,\n",
              " '看到': 337,\n",
              " '不想': 338,\n",
              " '团购': 339,\n",
              " '多人': 340,\n",
              " '半天': 341,\n",
              " '用餐': 342,\n",
              " '分钟': 343,\n",
              " '只': 344,\n",
              " '彩虹': 345,\n",
              " '来说': 346,\n",
              " '终于': 347,\n",
              " '必点': 348,\n",
              " '问题': 349,\n",
              " '11': 350,\n",
              " '名字': 351,\n",
              " '好喝': 352,\n",
              " '么': 353,\n",
              " '奶茶': 354,\n",
              " '不让': 355,\n",
              " '别的': 356,\n",
              " '他们': 357,\n",
              " '盘子': 358,\n",
              " '简直': 359,\n",
              " '手机': 360,\n",
              " '20': 361,\n",
              " '告知': 362,\n",
              " '估计': 363,\n",
              " '们': 364,\n",
              " '再也': 365,\n",
              " '绝对': 366,\n",
              " '糖': 367,\n",
              " '干净': 368,\n",
              " '钱': 369,\n",
              " '确实': 370,\n",
              " '整体': 371,\n",
              " '出': 372,\n",
              " '10': 373,\n",
              " '还要': 374,\n",
              " '刚': 375,\n",
              " '晚上': 376,\n",
              " '她': 377,\n",
              " '挺好吃': 378,\n",
              " '直接': 379,\n",
              " '退': 380,\n",
              " '后来': 381,\n",
              " '饼': 382,\n",
              " '不少': 383,\n",
              " '便宜': 384,\n",
              " '酸奶': 385,\n",
              " '座位': 386,\n",
              " '一般般': 387,\n",
              " '更': 388,\n",
              " '装修': 389,\n",
              " '热情': 390,\n",
              " '手': 391,\n",
              " '一些': 392,\n",
              " '好像': 393,\n",
              " '奶油': 394,\n",
              " '撕饼': 395,\n",
              " '微信': 396,\n",
              " '本来': 397,\n",
              " '嘛': 398,\n",
              " '果仁': 399,\n",
              " '小吊梨汤': 400,\n",
              " '久': 401,\n",
              " '各种': 402,\n",
              " '以为': 403,\n",
              " '3': 404,\n",
              " '不值': 405,\n",
              " '下午': 406,\n",
              " '排号': 407,\n",
              " '尤其': 408,\n",
              " '不行': 409,\n",
              " '去过': 410,\n",
              " '换': 411,\n",
              " '意面': 412,\n",
              " '油': 413,\n",
              " '夹': 414,\n",
              " '差不多': 415,\n",
              " '米饭': 416,\n",
              " '凉': 417,\n",
              " '竟然': 418,\n",
              " '嘈杂': 419,\n",
              " '喊': 420,\n",
              " '烩饭': 421,\n",
              " '桌': 422,\n",
              " '一定': 423,\n",
              " '自助餐': 424,\n",
              " '拔草': 425,\n",
              " '大概': 426,\n",
              " '金牌': 427,\n",
              " '可': 428,\n",
              " '建议': 429,\n",
              " '老板': 430,\n",
              " '北': 431,\n",
              " '酱': 432,\n",
              " '为了': 433,\n",
              " '火爆': 434,\n",
              " '够': 435,\n",
              " '两次': 436,\n",
              " '鸡蛋': 437,\n",
              " '东北菜': 438,\n",
              " '才能': 439,\n",
              " '反正': 440,\n",
              " '太差': 441,\n",
              " '这是': 442,\n",
              " '进': 443,\n",
              " '上面': 444,\n",
              " '加': 445,\n",
              " '是不是': 446,\n",
              " '味儿': 447,\n",
              " '炸': 448,\n",
              " '硬': 449,\n",
              " '6': 450,\n",
              " '四个': 451,\n",
              " '剩下': 452,\n",
              " '等到': 453,\n",
              " '油腻': 454,\n",
              " '小哥': 455,\n",
              " '老': 456,\n",
              " '巧克力': 457,\n",
              " '饮品': 458,\n",
              " '选择': 459,\n",
              " '太慢': 460,\n",
              " '长': 461,\n",
              " '奶': 462,\n",
              " '为': 463,\n",
              " '再也不会': 464,\n",
              " '一道': 465,\n",
              " '前面': 466,\n",
              " '热': 467,\n",
              " '早': 468,\n",
              " '烤鸭': 469,\n",
              " '押金': 470,\n",
              " '拉肚子': 471,\n",
              " '奶香手': 472,\n",
              " '想象': 473,\n",
              " '还行': 474,\n",
              " '店家': 475,\n",
              " '丰富': 476,\n",
              " '算是': 477,\n",
              " '谁': 478,\n",
              " '催': 479,\n",
              " '甜点': 480,\n",
              " '吃饱': 481,\n",
              " '半个': 482,\n",
              " '不用': 483,\n",
              " '不太': 484,\n",
              " '免费': 485,\n",
              " '中规中矩': 486,\n",
              " '意': 487,\n",
              " '那种': 488,\n",
              " '恶心': 489,\n",
              " '酸': 490,\n",
              " '唯一': 491,\n",
              " '回来': 492,\n",
              " '全': 493,\n",
              " '先': 494,\n",
              " '舒服': 495,\n",
              " '方便': 496,\n",
              " '品种': 497,\n",
              " '一个多': 498,\n",
              " '呵呵': 499,\n",
              " '主要': 500,\n",
              " '它': 501,\n",
              " '浪费': 502,\n",
              " '后面': 503,\n",
              " '死': 504,\n",
              " '闺蜜': 505,\n",
              " '煎': 506,\n",
              " '烟花': 507,\n",
              " '尝尝': 508,\n",
              " '玉米': 509,\n",
              " '刷卡': 510,\n",
              " '开心': 511,\n",
              " '三杯': 512,\n",
              " '剩': 513,\n",
              " '样子': 514,\n",
              " '千层': 515,\n",
              " '棉花': 516,\n",
              " '啥': 517,\n",
              " '猪肝': 518,\n",
              " '老公': 519,\n",
              " '水': 520,\n",
              " '也许': 521,\n",
              " '实惠': 522,\n",
              " '吊梨汤': 523,\n",
              " '当时': 524,\n",
              " '铁板': 525,\n",
              " '店里': 526,\n",
              " '卫生': 527,\n",
              " '惊艳': 528,\n",
              " '入味': 529,\n",
              " '李妈妈': 530,\n",
              " '多次': 531,\n",
              " '一半': 532,\n",
              " '赞': 533,\n",
              " '没想到': 534,\n",
              " '重': 535,\n",
              " '蚝': 536,\n",
              " '凉菜': 537,\n",
              " '价位': 538,\n",
              " '半小时': 539,\n",
              " '的话': 540,\n",
              " '12': 541,\n",
              " '不算': 542,\n",
              " '食物': 543,\n",
              " '很快': 544,\n",
              " '妓女': 545,\n",
              " '蘑菇': 546,\n",
              " '合适': 547,\n",
              " '同事': 548,\n",
              " '打包': 549,\n",
              " '好久': 550,\n",
              " '素': 551,\n",
              " '30': 552,\n",
              " '必须': 553,\n",
              " '要是': 554,\n",
              " '全是': 555,\n",
              " '风格': 556,\n",
              " '干': 557,\n",
              " '送': 558,\n",
              " '所有': 559,\n",
              " '昨天': 560,\n",
              " '前': 561,\n",
              " '晚': 562,\n",
              " '队': 563,\n",
              " '写': 564,\n",
              " '前台': 565,\n",
              " '理解': 566,\n",
              " '相当': 567,\n",
              " '左右': 568,\n",
              " '小吃': 569,\n",
              " '试试': 570,\n",
              " '周末': 571,\n",
              " '小伙伴': 572,\n",
              " '偏甜': 573,\n",
              " '呀': 574,\n",
              " '嚼': 575,\n",
              " '多少': 576,\n",
              " '经常': 577,\n",
              " '旁边': 578,\n",
              " '首先': 579,\n",
              " '不够': 580,\n",
              " '另外': 581,\n",
              " '看着': 582,\n",
              " '不吃': 583,\n",
              " '40': 584,\n",
              " '厨师': 585,\n",
              " '过去': 586,\n",
              " '羊肉': 587,\n",
              " '吐': 588,\n",
              " '不怎么样': 589,\n",
              " '接受': 590,\n",
              " '安排': 591,\n",
              " '分量': 592,\n",
              " '醉': 593,\n",
              " '太甜': 594,\n",
              " '西餐': 595,\n",
              " '作为': 596,\n",
              " '足': 597,\n",
              " '土豆泥': 598,\n",
              " '尝试': 599,\n",
              " '是因为': 600,\n",
              " '五点': 601,\n",
              " '乱': 602,\n",
              " '那些': 603,\n",
              " '明白': 604,\n",
              " '忘': 605,\n",
              " '豌豆黄': 606,\n",
              " '东北': 607,\n",
              " '招牌菜': 608,\n",
              " '餐具': 609,\n",
              " '虾仁': 610,\n",
              " '光顾': 611,\n",
              " '体验': 612,\n",
              " '商家': 613,\n",
              " '7': 614,\n",
              " '尝': 615,\n",
              " '一杯': 616,\n",
              " '哈哈': 617,\n",
              " '说话': 618,\n",
              " '而': 619,\n",
              " '下单': 620,\n",
              " '哎': 621,\n",
              " '华夫': 622,\n",
              " '似的': 623,\n",
              " '座': 624,\n",
              " '由于': 625,\n",
              " '😂': 626,\n",
              " '头发': 627,\n",
              " '心情': 628,\n",
              " '水果': 629,\n",
              " '却': 630,\n",
              " '很棒': 631,\n",
              " '打': 632,\n",
              " '一口': 633,\n",
              " '齐': 634,\n",
              " '美味': 635,\n",
              " '过生日': 636,\n",
              " '这些': 637,\n",
              " '普通': 638,\n",
              " '蛏': 639,\n",
              " '正宗': 640,\n",
              " '评论': 641,\n",
              " '买': 642,\n",
              " '差劲': 643,\n",
              " '越来越': 644,\n",
              " '现金': 645,\n",
              " '原因': 646,\n",
              " '真不知道': 647,\n",
              " '酸菜': 648,\n",
              " '每人': 649,\n",
              " '馋': 650,\n",
              " '块钱': 651,\n",
              " '每个': 652,\n",
              " '聚会': 653,\n",
              " '大桌': 654,\n",
              " '开': 655,\n",
              " '消费': 656,\n",
              " '不同': 657,\n",
              " '你家': 658,\n",
              " '越': 659,\n",
              " '下午茶': 660,\n",
              " '肯定': 661,\n",
              " '明明': 662,\n",
              " '小贵': 663,\n",
              " '茄': 664,\n",
              " '重要': 665,\n",
              " '连': 666,\n",
              " '酥': 667,\n",
              " '改进': 668,\n",
              " '香饼': 669,\n",
              " '人点': 670,\n",
              " '弄': 671,\n",
              " '道菜': 672,\n",
              " '印象': 673,\n",
              " '有点咸': 674,\n",
              " '麻烦': 675,\n",
              " '一如既往': 676,\n",
              " '创意': 677,\n",
              " '没法': 678,\n",
              " '剔牙': 679,\n",
              " '很浓': 680,\n",
              " '俩': 681,\n",
              " '嫩': 682,\n",
              " '香味': 683,\n",
              " '对于': 684,\n",
              " '最好': 685,\n",
              " '老人': 686,\n",
              " '四点': 687,\n",
              " '米': 688,\n",
              " '正好': 689,\n",
              " '太咸': 690,\n",
              " '一股': 691,\n",
              " '位子': 692,\n",
              " '两人': 693,\n",
              " '精致': 694,\n",
              " '土豆': 695,\n",
              " '饱': 696,\n",
              " '饿': 697,\n",
              " '坐下': 698,\n",
              " '正餐': 699,\n",
              " '棒': 700,\n",
              " '意大利': 701,\n",
              " '进来': 702,\n",
              " '基本上': 703,\n",
              " '梅肉': 704,\n",
              " '吧台': 705,\n",
              " '继续': 706,\n",
              " '很小': 707,\n",
              " '很差': 708,\n",
              " '像是': 709,\n",
              " '食材': 710,\n",
              " '烧鸡': 711,\n",
              " '就算': 712,\n",
              " '再说': 713,\n",
              " '找到': 714,\n",
              " '汉斯': 715,\n",
              " '等待': 716,\n",
              " '每桌': 717,\n",
              " '肉丝': 718,\n",
              " '孜然': 719,\n",
              " '意思': 720,\n",
              " '浓郁': 721,\n",
              " '坐在': 722,\n",
              " '这点': 723,\n",
              " '优惠': 724,\n",
              " '聚餐': 725,\n",
              " '回家': 726,\n",
              " '选': 727,\n",
              " '几乎': 728,\n",
              " '疙瘩汤': 729,\n",
              " '8': 730,\n",
              " '最近': 731,\n",
              " '果然': 732,\n",
              " '抓': 733,\n",
              " '一块': 734,\n",
              " '不来': 735,\n",
              " '依旧': 736,\n",
              " '等候': 737,\n",
              " '正常': 738,\n",
              " '或者': 739,\n",
              " '一句': 740,\n",
              " '吃个': 741,\n",
              " '宝宝': 742,\n",
              " '蛋挞': 743,\n",
              " '就餐': 744,\n",
              " '吵': 745,\n",
              " '说实话': 746,\n",
              " '杯子': 747,\n",
              " '下面': 748,\n",
              " '次': 749,\n",
              " '特意': 750,\n",
              " '花椰菜': 751,\n",
              " '垃圾': 752,\n",
              " '汁': 753,\n",
              " '家里': 754,\n",
              " '酸甜': 755,\n",
              " '好看': 756,\n",
              " '情况': 757,\n",
              " '经理': 758,\n",
              " '香': 759,\n",
              " '略': 760,\n",
              " '拉': 761,\n",
              " '稍': 762,\n",
              " '就要': 763,\n",
              " '冰淇淋': 764,\n",
              " '浓': 765,\n",
              " '原来': 766,\n",
              " '稍微': 767,\n",
              " '一位': 768,\n",
              " '没吃过': 769,\n",
              " '蜜汁': 770,\n",
              " '图片': 771,\n",
              " '芒果': 772,\n",
              " '地': 773,\n",
              " '无语': 774,\n",
              " '一共': 775,\n",
              " '听': 776,\n",
              " '块': 777,\n",
              " '传说': 778,\n",
              " '小桌': 779,\n",
              " '一堆': 780,\n",
              " '牛油果': 781,\n",
              " '饭菜': 782,\n",
              " '草莓': 783,\n",
              " '可惜': 784,\n",
              " '牛': 785,\n",
              " '无': 786,\n",
              " '骨': 787,\n",
              " '口': 788,\n",
              " '发票': 789,\n",
              " '热菜': 790,\n",
              " '有个': 791,\n",
              " '一会': 792,\n",
              " '质量': 793,\n",
              " '机会': 794,\n",
              " '提醒': 795,\n",
              " '还点': 796,\n",
              " '其它': 797,\n",
              " '爆': 798,\n",
              " '沙发': 799,\n",
              " '凑合': 800,\n",
              " '家人': 801,\n",
              " '看见': 802,\n",
              " '稠': 803,\n",
              " '一种': 804,\n",
              " '端上来': 805,\n",
              " '饭馆': 806,\n",
              " '人气': 807,\n",
              " '支付': 808,\n",
              " '花': 809,\n",
              " '不去': 810,\n",
              " '整个': 811,\n",
              " '星': 812,\n",
              " '太大': 813,\n",
              " '很少': 814,\n",
              " '不大': 815,\n",
              " '金': 816,\n",
              " '一壶': 817,\n",
              " '饭店': 818,\n",
              " '服务生': 819,\n",
              " '下去': 820,\n",
              " '是否': 821,\n",
              " '卖': 822,\n",
              " '买单': 823,\n",
              " '任何': 824,\n",
              " '蛮': 825,\n",
              " '儿': 826,\n",
              " '特点': 827,\n",
              " '鸡翅': 828,\n",
              " '平时': 829,\n",
              " '奇怪': 830,\n",
              " '期待': 831,\n",
              " '点半': 832,\n",
              " '预约': 833,\n",
              " '道': 834,\n",
              " '一大': 835,\n",
              " '人员': 836,\n",
              " '晚餐': 837,\n",
              " '人家': 838,\n",
              " '难道': 839,\n",
              " '八点': 840,\n",
              " '拍照': 841,\n",
              " '新': 842,\n",
              " '想来': 843,\n",
              " '别': 844,\n",
              " '食欲': 845,\n",
              " '注意': 846,\n",
              " '事': 847,\n",
              " '不怎么': 848,\n",
              " '遗憾': 849,\n",
              " '几口': 850,\n",
              " '办法': 851,\n",
              " '一点点': 852,\n",
              " '那天': 853,\n",
              " '五个': 854,\n",
              " '家常': 855,\n",
              " '玩': 856,\n",
              " '哪': 857,\n",
              " '支付宝': 858,\n",
              " '生': 859,\n",
              " '太小': 860,\n",
              " '当天': 861,\n",
              " '肥牛': 862,\n",
              " '路过': 863,\n",
              " '外婆家': 864,\n",
              " '您': 865,\n",
              " '当': 866,\n",
              " '两口': 867,\n",
              " '好找': 868,\n",
              " '影响': 869,\n",
              " '生意': 870,\n",
              " '活动': 871,\n",
              " '品质': 872,\n",
              " '水平': 873,\n",
              " '啤酒': 874,\n",
              " '看起来': 875,\n",
              " '好好': 876,\n",
              " '打电话': 877,\n",
              " '上次': 878,\n",
              " '同学': 879,\n",
              " '容易': 880,\n",
              " '柴': 881,\n",
              " '慢慢': 882,\n",
              " '不太好': 883,\n",
              " '餐馆': 884,\n",
              " '长时间': 885,\n",
              " '凉糕': 886,\n",
              " '店面': 887,\n",
              " '与': 888,\n",
              " '网上': 889,\n",
              " '菜馆': 890,\n",
              " '鱿鱼': 891,\n",
              " '所谓': 892,\n",
              " '至少': 893,\n",
              " '布丁': 894,\n",
              " '皮': 895,\n",
              " '烧鹅': 896,\n",
              " '麻酱': 897,\n",
              " '胃口': 898,\n",
              " '马上': 899,\n",
              " '果断': 900,\n",
              " '跑': 901,\n",
              " '预定': 902,\n",
              " '边': 903,\n",
              " '丁': 904,\n",
              " '太多': 905,\n",
              " '总是': 906,\n",
              " '点多': 907,\n",
              " '馆子': 908,\n",
              " '100': 909,\n",
              " '要死': 910,\n",
              " '素质': 911,\n",
              " '一桌': 912,\n",
              " '想要': 913,\n",
              " '个人感觉': 914,\n",
              " '小聚': 915,\n",
              " '分店': 916,\n",
              " '棒棒': 917,\n",
              " '哒': 918,\n",
              " '菜名': 919,\n",
              " '全部': 920,\n",
              " '煮': 921,\n",
              " '慕名而来': 922,\n",
              " '总': 923,\n",
              " '严重': 924,\n",
              " '瓶子': 925,\n",
              " '最爱': 926,\n",
              " '抹': 927,\n",
              " '茶': 928,\n",
              " '营销': 929,\n",
              " '坏': 930,\n",
              " '肉龙': 931,\n",
              " '要求': 932,\n",
              " '听说': 933,\n",
              " '品尝': 934,\n",
              " '一个半': 935,\n",
              " '太少': 936,\n",
              " '不像': 937,\n",
              " '200': 938,\n",
              " '包间': 939,\n",
              " '猪蹄': 940,\n",
              " '店大欺客': 941,\n",
              " '第一': 942,\n",
              " '赶上': 943,\n",
              " '羊排': 944,\n",
              " '本身': 945,\n",
              " '怀疑': 946,\n",
              " '到位': 947,\n",
              " '切': 948,\n",
              " '没上': 949,\n",
              " '当然': 950,\n",
              " '偏咸': 951,\n",
              " '忘记': 952,\n",
              " '料': 953,\n",
              " '拌': 954,\n",
              " '吃货': 955,\n",
              " '价钱': 956,\n",
              " '回去': 957,\n",
              " '西红柿': 958,\n",
              " '些': 959,\n",
              " '类似': 960,\n",
              " '烤生': 961,\n",
              " '靠': 962,\n",
              " '使用': 963,\n",
              " '别人': 964,\n",
              " '一层': 965,\n",
              " '鱼蜜': 966,\n",
              " '怕': 967,\n",
              " '炒菜': 968,\n",
              " '太腻': 969,\n",
              " '做好': 970,\n",
              " '有人': 971,\n",
              " '先说': 972,\n",
              " '别家': 973,\n",
              " '咖啡': 974,\n",
              " '月': 975,\n",
              " '坐满': 976,\n",
              " '一人': 977,\n",
              " '虾球': 978,\n",
              " '赶紧': 979,\n",
              " '及时': 980,\n",
              " '不然': 981,\n",
              " '配菜': 982,\n",
              " '重点': 983,\n",
              " '生日': 984,\n",
              " '酱料': 985,\n",
              " '超': 986,\n",
              " '蟹': 987,\n",
              " '有点儿': 988,\n",
              " '为啥': 989,\n",
              " '至于': 990,\n",
              " '看看': 991,\n",
              " '其次': 992,\n",
              " '关键': 993,\n",
              " '炖': 994,\n",
              " '周六': 995,\n",
              " '刚刚': 996,\n",
              " '偏': 997,\n",
              " '刷': 998,\n",
              " '这边': 999,\n",
              " '对不起': 1000,\n",
              " ...}"
            ]
          },
          "metadata": {
            "tags": []
          },
          "execution_count": 87
        }
      ]
    },
    {
      "metadata": {
        "id": "YYZ4W-CpvbzZ",
        "colab_type": "code",
        "colab": {}
      },
      "cell_type": "code",
      "source": [
        "embedding_dim = len(zh_model[next(iter(zh_model.vocab))])"
      ],
      "execution_count": 0,
      "outputs": []
    },
    {
      "metadata": {
        "id": "3MTcB8NJv3tc",
        "colab_type": "code",
        "colab": {}
      },
      "cell_type": "code",
      "source": [
        "# embedding_matrix = np.zeros((max_words, embedding_dim))"
      ],
      "execution_count": 0,
      "outputs": []
    },
    {
      "metadata": {
        "id": "DzzT4n6UAfh6",
        "colab_type": "code",
        "colab": {}
      },
      "cell_type": "code",
      "source": [
        "embedding_matrix = np.random.rand(max_words, embedding_dim)"
      ],
      "execution_count": 0,
      "outputs": []
    },
    {
      "metadata": {
        "id": "OM19_HPUv5qG",
        "colab_type": "code",
        "colab": {
          "base_uri": "https://localhost:8080/",
          "height": 269
        },
        "outputId": "7d7ee88c-5c6f-4b40-d903-f57963ea4fb4"
      },
      "cell_type": "code",
      "source": [
        "embedding_matrix"
      ],
      "execution_count": 183,
      "outputs": [
        {
          "output_type": "execute_result",
          "data": {
            "text/plain": [
              "array([[0.28777845, 0.4824315 , 0.97268032, ..., 0.68098641, 0.69420823,\n",
              "        0.11785805],\n",
              "       [0.80813255, 0.48377694, 0.1284074 , ..., 0.63203803, 0.58011185,\n",
              "        0.4473811 ],\n",
              "       [0.57705585, 0.40979445, 0.53305782, ..., 0.24157283, 0.27572182,\n",
              "        0.47146416],\n",
              "       ...,\n",
              "       [0.60994758, 0.44236889, 0.22139597, ..., 0.67394527, 0.36598241,\n",
              "        0.08796741],\n",
              "       [0.39325209, 0.67697791, 0.1884866 , ..., 0.84430915, 0.66454174,\n",
              "        0.75892098],\n",
              "       [0.41767013, 0.2454646 , 0.34305627, ..., 0.54859932, 0.29401925,\n",
              "        0.84000079]])"
            ]
          },
          "metadata": {
            "tags": []
          },
          "execution_count": 183
        }
      ]
    },
    {
      "metadata": {
        "id": "wFQzwq82H3XH",
        "colab_type": "code",
        "colab": {}
      },
      "cell_type": "code",
      "source": [
        "embedding_matrix = (embedding_matrix - 0.5) * 10"
      ],
      "execution_count": 0,
      "outputs": []
    },
    {
      "metadata": {
        "id": "JOjGDBvSICnp",
        "colab_type": "code",
        "colab": {
          "base_uri": "https://localhost:8080/",
          "height": 269
        },
        "outputId": "1a92382f-9da5-4eb2-a4f3-1c8bcbd3ac1f"
      },
      "cell_type": "code",
      "source": [
        "embedding_matrix"
      ],
      "execution_count": 212,
      "outputs": [
        {
          "output_type": "execute_result",
          "data": {
            "text/plain": [
              "array([[-2.12221548, -0.17568501,  4.72680325, ...,  1.80986415,\n",
              "         1.94208232, -3.82141952],\n",
              "       [ 3.08132552, -0.16223059, -3.71592598, ...,  1.32038029,\n",
              "         0.80111854, -0.52618904],\n",
              "       [-4.13011998, -4.08877   , -4.69278   , ..., -3.90500002,\n",
              "        -5.53695001, -4.66177002],\n",
              "       ...,\n",
              "       [ 1.09947581, -0.57631111, -2.78604028, ...,  1.73945275,\n",
              "        -1.34017592, -4.12032589],\n",
              "       [-1.06747906,  1.76977912, -3.11513403, ...,  3.44309148,\n",
              "         1.64541745,  2.58920978],\n",
              "       [-0.82329869, -2.54535397, -1.56943729, ...,  0.48599321,\n",
              "        -2.05980747,  3.40000789]])"
            ]
          },
          "metadata": {
            "tags": []
          },
          "execution_count": 212
        }
      ]
    },
    {
      "metadata": {
        "id": "sxkXY0JkwRIu",
        "colab_type": "code",
        "colab": {
          "base_uri": "https://localhost:8080/",
          "height": 1197
        },
        "outputId": "08268c64-5de4-447a-e494-f341bda7f1e0"
      },
      "cell_type": "code",
      "source": [
        "zh_model.get_vector('的')"
      ],
      "execution_count": 96,
      "outputs": [
        {
          "output_type": "execute_result",
          "data": {
            "text/plain": [
              "array([ 8.6988e-02,  9.1123e-02,  3.0722e-02,  3.4160e-03,  2.7568e-02,\n",
              "        5.4995e-03,  1.0905e-01,  4.9999e-02, -1.9161e-01,  4.2729e-02,\n",
              "        1.3284e-01, -4.2997e-02,  4.4196e-02, -4.6042e-02,  5.2395e-02,\n",
              "       -1.3002e-01,  1.1440e-01, -1.5359e-01,  5.7565e-02,  1.3344e-01,\n",
              "       -6.4197e-02,  5.3679e-02,  1.3349e-01,  6.1268e-02, -2.4911e-03,\n",
              "        1.9382e-01,  4.4253e-02, -2.0858e-02, -8.0714e-02,  1.0053e-01,\n",
              "        5.8553e-02,  6.3155e-02, -2.9961e-02, -3.1906e-02,  5.6153e-02,\n",
              "        5.1014e-02,  1.0752e-01, -7.4407e-02,  9.1990e-02,  1.7744e-01,\n",
              "       -5.9959e-02,  1.4046e-01, -8.0201e-02,  4.3989e-02, -9.5205e-02,\n",
              "        1.3022e-02,  9.1900e-02,  2.4317e-02, -7.0992e-02, -1.5179e-01,\n",
              "       -3.0031e-02,  1.0344e-01, -5.8155e-02,  3.5950e-02, -5.5085e-02,\n",
              "        4.7587e-02, -1.4251e-01, -1.3986e-01, -1.3891e-01,  6.9042e-03,\n",
              "        9.0945e-02, -5.5156e-02,  6.8180e-02,  1.1948e-01,  7.8577e-03,\n",
              "        1.0014e-01, -4.2805e-02,  2.2362e-01, -2.6212e-02, -3.5302e-02,\n",
              "       -6.2687e-03, -1.0843e-01,  1.0872e-01,  2.8890e-02, -3.5473e-03,\n",
              "       -1.9498e-01, -7.5138e-02,  8.5332e-03, -1.0061e-01, -1.7855e-02,\n",
              "       -1.5515e-01,  5.3034e-02,  5.6923e-02,  1.2199e-01,  4.6883e-02,\n",
              "        2.1629e-02,  1.0586e-01,  1.6561e-01, -6.9487e-02,  5.4721e-02,\n",
              "       -3.8894e-02,  5.7113e-02,  1.3905e-02,  7.9968e-03,  2.0372e-02,\n",
              "        3.3724e-02,  8.9571e-02, -6.1825e-02,  8.8606e-02, -5.5677e-04,\n",
              "       -3.8857e-02, -4.9158e-02, -1.6729e-01, -1.8883e-02, -8.5901e-02,\n",
              "        5.5962e-02,  2.5990e-04, -9.9389e-02, -3.0678e-02,  1.9205e-01,\n",
              "       -1.5735e-01, -1.0431e-01,  8.2319e-02,  1.2595e-02,  9.2085e-02,\n",
              "       -5.6538e-02,  1.4844e-02,  9.3501e-02,  1.4248e-02,  7.2259e-02,\n",
              "       -5.5934e-02,  1.1639e-02, -5.8573e-02, -1.3317e-02,  6.1250e-02,\n",
              "       -5.5100e-02,  5.6260e-02,  1.2347e-01, -3.2506e-02,  3.3067e-02,\n",
              "       -2.5218e-02,  1.0814e-01, -5.6682e-02,  8.7505e-03, -4.8172e-02,\n",
              "       -6.4899e-02,  1.6328e-01, -7.9505e-02,  2.7262e-03,  1.3690e-01,\n",
              "       -6.1343e-02, -9.6471e-02,  1.5359e-01, -9.9349e-02,  4.0632e-03,\n",
              "       -1.9113e-01,  8.2199e-02, -2.5211e-02,  1.3088e-01, -3.7268e-02,\n",
              "        1.1964e-01,  8.6707e-02,  4.2749e-02, -1.5924e-03, -1.7589e-02,\n",
              "        4.7354e-02,  8.3091e-02, -6.5673e-03, -7.3253e-02, -1.0561e-01,\n",
              "       -9.5948e-02,  3.5908e-03,  8.2236e-02, -6.5011e-02,  2.0903e-02,\n",
              "       -4.8451e-02, -5.2236e-02, -8.7794e-02, -1.0255e-01,  1.1870e-02,\n",
              "       -5.4561e-02, -1.1820e-01,  6.9707e-02,  1.1088e-01,  4.9565e-02,\n",
              "       -1.6908e-01, -2.5972e-02,  1.7717e-01,  1.2777e-02, -2.1880e-01,\n",
              "       -3.6761e-02,  6.8808e-02, -3.7581e-02,  1.9503e-04, -7.8141e-03,\n",
              "        8.1960e-02, -1.0362e-01, -1.2003e-01, -5.1110e-02,  2.8537e-02,\n",
              "        1.0095e-01,  1.5120e-01, -4.0180e-02,  5.0266e-02,  7.5779e-03,\n",
              "       -4.2154e-02,  1.2446e-01,  1.2966e-01, -1.2152e-01,  3.6949e-02,\n",
              "       -1.5425e-01, -1.1030e-01,  1.3733e-02,  1.4245e-01,  1.3199e-02,\n",
              "        1.2274e-01,  6.2722e-02, -9.5067e-02,  1.1852e-01, -5.2969e-02,\n",
              "       -4.3863e-02, -8.2138e-02, -1.0900e-01, -1.2394e-01,  2.1520e-02,\n",
              "       -4.8022e-02, -7.6740e-02,  3.9333e-03,  2.7155e-02, -8.4467e-02,\n",
              "       -4.5000e-03, -5.6752e-02,  5.6311e-02, -2.7916e-02, -9.6325e-04,\n",
              "       -2.9923e-02,  2.1275e-01,  5.1629e-02,  6.0354e-02,  9.2330e-02,\n",
              "        7.5225e-03,  1.4324e-01,  5.3696e-02,  2.8918e-04, -1.1208e-01,\n",
              "       -1.4720e-02, -5.7640e-03,  3.5396e-02, -2.5289e-02, -1.4953e-02,\n",
              "        3.8573e-03, -5.4327e-02, -1.0364e-01,  7.9213e-02,  1.1286e-01,\n",
              "        2.8222e-01,  1.2950e-01,  4.0886e-02,  3.6691e-02,  5.1253e-02,\n",
              "        4.7032e-02,  3.4693e-02,  5.4439e-02,  1.2965e-01,  7.7064e-02,\n",
              "       -1.0494e-01,  1.3365e-03, -1.1190e-01, -1.0400e-03,  8.7689e-02,\n",
              "        3.5548e-02,  9.7216e-02, -9.7204e-02, -2.5457e-02, -4.9834e-02,\n",
              "       -2.9047e-02, -9.1388e-02, -2.3864e-02,  9.9744e-02, -8.0191e-02,\n",
              "        5.4590e-02,  2.3268e-02, -8.3031e-02, -8.0196e-02,  2.2590e-03,\n",
              "        9.1633e-02,  1.9678e-02, -6.8804e-02,  5.1628e-02,  3.0844e-02,\n",
              "       -1.8965e-01, -3.0205e-02, -9.2076e-04, -1.0805e-01,  1.4195e-02,\n",
              "        2.6702e-02, -8.9089e-02,  4.0170e-02, -1.9595e-02,  1.7595e-04,\n",
              "        1.6760e-01, -6.8750e-02,  8.3131e-02,  1.2923e-01,  1.1810e-01,\n",
              "       -1.4765e-03, -1.7965e-02,  1.0950e-01, -5.3695e-02,  3.3823e-02],\n",
              "      dtype=float32)"
            ]
          },
          "metadata": {
            "tags": []
          },
          "execution_count": 96
        }
      ]
    },
    {
      "metadata": {
        "id": "u6Jdt3wIwJcw",
        "colab_type": "code",
        "colab": {
          "base_uri": "https://localhost:8080/",
          "height": 450
        },
        "outputId": "e7a59104-299c-4de5-977a-6bf94d62d2ef"
      },
      "cell_type": "code",
      "source": [
        "zh_model.get_vector(\"王树义\")"
      ],
      "execution_count": 95,
      "outputs": [
        {
          "output_type": "error",
          "ename": "KeyError",
          "evalue": "ignored",
          "traceback": [
            "\u001b[0;31m---------------------------------------------------------------------------\u001b[0m",
            "\u001b[0;31mKeyError\u001b[0m                                  Traceback (most recent call last)",
            "\u001b[0;32m<ipython-input-95-969b63cd9514>\u001b[0m in \u001b[0;36m<module>\u001b[0;34m()\u001b[0m\n\u001b[0;32m----> 1\u001b[0;31m \u001b[0mzh_model\u001b[0m\u001b[0;34m.\u001b[0m\u001b[0mget_vector\u001b[0m\u001b[0;34m(\u001b[0m\u001b[0;34m\"王树义\"\u001b[0m\u001b[0;34m)\u001b[0m\u001b[0;34m\u001b[0m\u001b[0m\n\u001b[0m",
            "\u001b[0;32m/usr/local/lib/python3.6/dist-packages/gensim/models/keyedvectors.py\u001b[0m in \u001b[0;36mget_vector\u001b[0;34m(self, word)\u001b[0m\n\u001b[1;32m    453\u001b[0m \u001b[0;34m\u001b[0m\u001b[0m\n\u001b[1;32m    454\u001b[0m     \u001b[0;32mdef\u001b[0m \u001b[0mget_vector\u001b[0m\u001b[0;34m(\u001b[0m\u001b[0mself\u001b[0m\u001b[0;34m,\u001b[0m \u001b[0mword\u001b[0m\u001b[0;34m)\u001b[0m\u001b[0;34m:\u001b[0m\u001b[0;34m\u001b[0m\u001b[0m\n\u001b[0;32m--> 455\u001b[0;31m         \u001b[0;32mreturn\u001b[0m \u001b[0mself\u001b[0m\u001b[0;34m.\u001b[0m\u001b[0mword_vec\u001b[0m\u001b[0;34m(\u001b[0m\u001b[0mword\u001b[0m\u001b[0;34m)\u001b[0m\u001b[0;34m\u001b[0m\u001b[0m\n\u001b[0m\u001b[1;32m    456\u001b[0m \u001b[0;34m\u001b[0m\u001b[0m\n\u001b[1;32m    457\u001b[0m     \u001b[0;32mdef\u001b[0m \u001b[0mwords_closer_than\u001b[0m\u001b[0;34m(\u001b[0m\u001b[0mself\u001b[0m\u001b[0;34m,\u001b[0m \u001b[0mw1\u001b[0m\u001b[0;34m,\u001b[0m \u001b[0mw2\u001b[0m\u001b[0;34m)\u001b[0m\u001b[0;34m:\u001b[0m\u001b[0;34m\u001b[0m\u001b[0m\n",
            "\u001b[0;32m/usr/local/lib/python3.6/dist-packages/gensim/models/keyedvectors.py\u001b[0m in \u001b[0;36mword_vec\u001b[0;34m(self, word, use_norm)\u001b[0m\n\u001b[1;32m    450\u001b[0m             \u001b[0;32mreturn\u001b[0m \u001b[0mresult\u001b[0m\u001b[0;34m\u001b[0m\u001b[0m\n\u001b[1;32m    451\u001b[0m         \u001b[0;32melse\u001b[0m\u001b[0;34m:\u001b[0m\u001b[0;34m\u001b[0m\u001b[0m\n\u001b[0;32m--> 452\u001b[0;31m             \u001b[0;32mraise\u001b[0m \u001b[0mKeyError\u001b[0m\u001b[0;34m(\u001b[0m\u001b[0;34m\"word '%s' not in vocabulary\"\u001b[0m \u001b[0;34m%\u001b[0m \u001b[0mword\u001b[0m\u001b[0;34m)\u001b[0m\u001b[0;34m\u001b[0m\u001b[0m\n\u001b[0m\u001b[1;32m    453\u001b[0m \u001b[0;34m\u001b[0m\u001b[0m\n\u001b[1;32m    454\u001b[0m     \u001b[0;32mdef\u001b[0m \u001b[0mget_vector\u001b[0m\u001b[0;34m(\u001b[0m\u001b[0mself\u001b[0m\u001b[0;34m,\u001b[0m \u001b[0mword\u001b[0m\u001b[0;34m)\u001b[0m\u001b[0;34m:\u001b[0m\u001b[0;34m\u001b[0m\u001b[0m\n",
            "\u001b[0;31mKeyError\u001b[0m: \"word '王树义' not in vocabulary\""
          ]
        }
      ]
    },
    {
      "metadata": {
        "id": "faQTT6KXv7Ye",
        "colab_type": "code",
        "colab": {}
      },
      "cell_type": "code",
      "source": [
        "for word, i in word_index.items():\n",
        "    if i < max_words:\n",
        "        try:\n",
        "#           print(word)\n",
        "          embedding_vector = zh_model.get_vector(word)\n",
        "#           print(embedding_vector)\n",
        "          embedding_matrix[i] = embedding_vector\n",
        "#           print(embedding_matrix[i])\n",
        "        except:\n",
        "          pass\n",
        "            "
      ],
      "execution_count": 0,
      "outputs": []
    },
    {
      "metadata": {
        "id": "Vv89licnwK5R",
        "colab_type": "code",
        "colab": {
          "base_uri": "https://localhost:8080/",
          "height": 269
        },
        "outputId": "76637215-5a7f-4b1b-f9dc-e3e92540a86b"
      },
      "cell_type": "code",
      "source": [
        "embedding_matrix"
      ],
      "execution_count": 214,
      "outputs": [
        {
          "output_type": "execute_result",
          "data": {
            "text/plain": [
              "array([[-2.12221548, -0.17568501,  4.72680325, ...,  1.80986415,\n",
              "         1.94208232, -3.82141952],\n",
              "       [ 3.08132552, -0.16223059, -3.71592598, ...,  1.32038029,\n",
              "         0.80111854, -0.52618904],\n",
              "       [ 0.086988  ,  0.091123  ,  0.030722  , ...,  0.1095    ,\n",
              "        -0.053695  ,  0.033823  ],\n",
              "       ...,\n",
              "       [ 1.09947581, -0.57631111, -2.78604028, ...,  1.73945275,\n",
              "        -1.34017592, -4.12032589],\n",
              "       [-1.06747906,  1.76977912, -3.11513403, ...,  3.44309148,\n",
              "         1.64541745,  2.58920978],\n",
              "       [-0.82329869, -2.54535397, -1.56943729, ...,  0.48599321,\n",
              "        -2.05980747,  3.40000789]])"
            ]
          },
          "metadata": {
            "tags": []
          },
          "execution_count": 214
        }
      ]
    },
    {
      "metadata": {
        "id": "5Jwwl4lOww_D",
        "colab_type": "code",
        "colab": {
          "base_uri": "https://localhost:8080/",
          "height": 269
        },
        "outputId": "0aaaae3e-9e5b-42fc-e878-35d9b52c6df5"
      },
      "cell_type": "code",
      "source": [
        "embedding_matrix[200:300]"
      ],
      "execution_count": 215,
      "outputs": [
        {
          "output_type": "execute_result",
          "data": {
            "text/plain": [
              "array([[-0.092746  ,  0.45572001,  0.032511  , ..., -0.088333  ,\n",
              "         0.36285999, -0.018011  ],\n",
              "       [ 0.017792  ,  0.10462   ,  0.08109   , ...,  0.033835  ,\n",
              "        -0.16196001, -0.018458  ],\n",
              "       [-0.10742   ,  0.11463   , -0.14602999, ..., -0.34452999,\n",
              "         0.048456  ,  0.05356   ],\n",
              "       ...,\n",
              "       [ 0.053914  , -0.1309    , -0.019349  , ...,  0.0010931 ,\n",
              "        -0.30583   ,  0.36684999],\n",
              "       [-0.14586   , -0.50783998, -0.10042   , ..., -0.0042077 ,\n",
              "         0.19586   ,  0.1155    ],\n",
              "       [-0.034932  , -0.099553  , -0.27765   , ...,  0.056534  ,\n",
              "         0.36921   , -0.22409999]])"
            ]
          },
          "metadata": {
            "tags": []
          },
          "execution_count": 215
        }
      ]
    },
    {
      "metadata": {
        "id": "I_aVLRSmyaGw",
        "colab_type": "code",
        "colab": {
          "base_uri": "https://localhost:8080/",
          "height": 269
        },
        "outputId": "12bb3065-e846-41d8-ccec-3f6643a078c2"
      },
      "cell_type": "code",
      "source": [
        "from keras.models import Sequential\n",
        "from keras.layers import Embedding, Flatten, Dense, LSTM\n",
        "\n",
        "model = Sequential()\n",
        "model.add(Embedding(max_words, embedding_dim))\n",
        "model.add(LSTM(32))\n",
        "model.add(Dense(1, activation='sigmoid'))\n",
        "model.summary()"
      ],
      "execution_count": 216,
      "outputs": [
        {
          "output_type": "stream",
          "text": [
            "_________________________________________________________________\n",
            "Layer (type)                 Output Shape              Param #   \n",
            "=================================================================\n",
            "embedding_14 (Embedding)     (None, None, 300)         3000000   \n",
            "_________________________________________________________________\n",
            "lstm_12 (LSTM)               (None, 32)                42624     \n",
            "_________________________________________________________________\n",
            "dense_16 (Dense)             (None, 1)                 33        \n",
            "=================================================================\n",
            "Total params: 3,042,657\n",
            "Trainable params: 3,042,657\n",
            "Non-trainable params: 0\n",
            "_________________________________________________________________\n"
          ],
          "name": "stdout"
        }
      ]
    },
    {
      "metadata": {
        "id": "aqDG3lPxysbz",
        "colab_type": "code",
        "colab": {}
      },
      "cell_type": "code",
      "source": [
        "model.layers[0].set_weights([embedding_matrix])\n",
        "model.layers[0].trainable = False"
      ],
      "execution_count": 0,
      "outputs": []
    },
    {
      "metadata": {
        "id": "Qqt8yufnzDBu",
        "colab_type": "code",
        "colab": {
          "base_uri": "https://localhost:8080/",
          "height": 443
        },
        "outputId": "0f9feb72-87d2-4f1e-ab2c-505f167d42b3"
      },
      "cell_type": "code",
      "source": [
        "model.compile(optimizer='rmsprop',\n",
        "              loss='binary_crossentropy',\n",
        "              metrics=['acc'])\n",
        "history = model.fit(x_train, y_train,\n",
        "                    epochs=10,\n",
        "                    batch_size=32,\n",
        "                    validation_data=(x_val, y_val))\n",
        "model.save(\"mymodel.h5\")"
      ],
      "execution_count": 218,
      "outputs": [
        {
          "output_type": "stream",
          "text": [
            "Train on 1600 samples, validate on 400 samples\n",
            "Epoch 1/10\n",
            "1600/1600 [==============================] - 9s 5ms/step - loss: 0.7134 - acc: 0.5088 - val_loss: 0.7056 - val_acc: 0.5025\n",
            "Epoch 2/10\n",
            "1600/1600 [==============================] - 5s 3ms/step - loss: 0.6536 - acc: 0.6150 - val_loss: 0.7131 - val_acc: 0.5075\n",
            "Epoch 3/10\n",
            "1600/1600 [==============================] - 5s 3ms/step - loss: 0.6191 - acc: 0.6681 - val_loss: 0.7129 - val_acc: 0.5175\n",
            "Epoch 4/10\n",
            "1600/1600 [==============================] - 5s 3ms/step - loss: 0.5804 - acc: 0.7144 - val_loss: 0.7192 - val_acc: 0.5025\n",
            "Epoch 5/10\n",
            "1600/1600 [==============================] - 5s 3ms/step - loss: 0.5379 - acc: 0.7525 - val_loss: 0.7351 - val_acc: 0.4925\n",
            "Epoch 6/10\n",
            "1600/1600 [==============================] - 5s 3ms/step - loss: 0.4918 - acc: 0.7856 - val_loss: 0.7778 - val_acc: 0.4850\n",
            "Epoch 7/10\n",
            "1600/1600 [==============================] - 5s 3ms/step - loss: 0.4269 - acc: 0.8244 - val_loss: 0.8161 - val_acc: 0.4700\n",
            "Epoch 8/10\n",
            "1600/1600 [==============================] - 5s 3ms/step - loss: 0.3723 - acc: 0.8675 - val_loss: 0.9100 - val_acc: 0.4575\n",
            "Epoch 9/10\n",
            "1600/1600 [==============================] - 5s 3ms/step - loss: 0.3265 - acc: 0.8787 - val_loss: 0.9643 - val_acc: 0.4600\n",
            "Epoch 10/10\n",
            "1600/1600 [==============================] - 5s 3ms/step - loss: 0.2847 - acc: 0.9081 - val_loss: 1.0482 - val_acc: 0.4600\n"
          ],
          "name": "stdout"
        }
      ]
    },
    {
      "metadata": {
        "id": "xFmquxoDzl41",
        "colab_type": "code",
        "colab": {
          "base_uri": "https://localhost:8080/",
          "height": 708
        },
        "outputId": "7916db68-c82b-48c5-f8cc-607a5f0d1a05"
      },
      "cell_type": "code",
      "source": [
        "import matplotlib.pyplot as plt\n",
        "\n",
        "acc = history.history['acc']\n",
        "val_acc = history.history['val_acc']\n",
        "loss = history.history['loss']\n",
        "val_loss = history.history['val_loss']\n",
        "\n",
        "epochs = range(1, len(acc) + 1)\n",
        "\n",
        "plt.plot(epochs, acc, 'bo', label='Training acc')\n",
        "plt.plot(epochs, val_acc, 'b', label='Validation acc')\n",
        "plt.title('Training and validation accuracy')\n",
        "plt.legend()\n",
        "\n",
        "plt.figure()\n",
        "\n",
        "plt.plot(epochs, loss, 'bo', label='Training loss')\n",
        "plt.plot(epochs, val_loss, 'b', label='Validation loss')\n",
        "plt.title('Training and validation loss')\n",
        "plt.legend()\n",
        "\n",
        "plt.show()"
      ],
      "execution_count": 219,
      "outputs": [
        {
          "output_type": "display_data",
          "data": {
            "image/png": "[encoded data removed]",
            "text/plain": [
              "<matplotlib.figure.Figure at 0x7f4b95c25f60>"
            ]
          },
          "metadata": {
            "tags": []
          }
        },
        {
          "output_type": "display_data",
          "data": {
            "image/png": "[encoded data removed]",
            "text/plain": [
              "<matplotlib.figure.Figure at 0x7f4b95c35710>"
            ]
          },
          "metadata": {
            "tags": []
          }
        }
      ]
    },
    {
      "metadata": {
        "id": "yU06zkFiJK3t",
        "colab_type": "code",
        "colab": {
          "base_uri": "https://localhost:8080/",
          "height": 269
        },
        "outputId": "460cde94-1407-4e15-ba46-b354731089b2"
      },
      "cell_type": "code",
      "source": [
        "from keras.models import Sequential\n",
        "from keras.layers import Embedding, Flatten, Dense, LSTM\n",
        "\n",
        "units = 32\n",
        "\n",
        "model = Sequential()\n",
        "model.add(Embedding(max_words, embedding_dim))\n",
        "model.add(LSTM(units, dropout=0.5, recurrent_dropout=0.5))\n",
        "model.add(Dense(1, activation='sigmoid'))\n",
        "model.summary()"
      ],
      "execution_count": 229,
      "outputs": [
        {
          "output_type": "stream",
          "text": [
            "_________________________________________________________________\n",
            "Layer (type)                 Output Shape              Param #   \n",
            "=================================================================\n",
            "embedding_18 (Embedding)     (None, None, 300)         3000000   \n",
            "_________________________________________________________________\n",
            "lstm_16 (LSTM)               (None, 32)                42624     \n",
            "_________________________________________________________________\n",
            "dense_20 (Dense)             (None, 1)                 33        \n",
            "=================================================================\n",
            "Total params: 3,042,657\n",
            "Trainable params: 3,042,657\n",
            "Non-trainable params: 0\n",
            "_________________________________________________________________\n"
          ],
          "name": "stdout"
        }
      ]
    },
    {
      "metadata": {
        "id": "CA7aMF9ZJRyf",
        "colab_type": "code",
        "colab": {}
      },
      "cell_type": "code",
      "source": [
        "model.layers[0].set_weights([embedding_matrix])\n",
        "model.layers[0].trainable = False"
      ],
      "execution_count": 0,
      "outputs": []
    },
    {
      "metadata": {
        "id": "IUMHwbQCJXVY",
        "colab_type": "code",
        "colab": {
          "base_uri": "https://localhost:8080/",
          "height": 443
        },
        "outputId": "a6d2d1f5-14c8-4ac9-b9b2-139b83726589"
      },
      "cell_type": "code",
      "source": [
        "model.compile(optimizer='rmsprop',\n",
        "              loss='binary_crossentropy',\n",
        "              metrics=['acc'])\n",
        "history = model.fit(x_train, y_train,\n",
        "                    epochs=10,\n",
        "                    batch_size=32,\n",
        "                    validation_data=(x_val, y_val))\n",
        "model.save(\"mymodel_with_dropout.h5\")"
      ],
      "execution_count": 231,
      "outputs": [
        {
          "output_type": "stream",
          "text": [
            "Train on 1600 samples, validate on 400 samples\n",
            "Epoch 1/10\n",
            "1600/1600 [==============================] - 11s 7ms/step - loss: 0.7139 - acc: 0.4906 - val_loss: 0.6974 - val_acc: 0.5125\n",
            "Epoch 2/10\n",
            "1600/1600 [==============================] - 6s 4ms/step - loss: 0.6980 - acc: 0.5325 - val_loss: 0.7032 - val_acc: 0.4975\n",
            "Epoch 3/10\n",
            "1600/1600 [==============================] - 6s 4ms/step - loss: 0.6955 - acc: 0.5375 - val_loss: 0.6968 - val_acc: 0.5275\n",
            "Epoch 4/10\n",
            "1600/1600 [==============================] - 6s 4ms/step - loss: 0.6905 - acc: 0.5425 - val_loss: 0.7019 - val_acc: 0.4725\n",
            "Epoch 5/10\n",
            "1600/1600 [==============================] - 6s 4ms/step - loss: 0.6852 - acc: 0.5519 - val_loss: 0.6999 - val_acc: 0.5175\n",
            "Epoch 6/10\n",
            "1600/1600 [==============================] - 6s 4ms/step - loss: 0.6867 - acc: 0.5550 - val_loss: 0.7027 - val_acc: 0.5125\n",
            "Epoch 7/10\n",
            "1600/1600 [==============================] - 6s 4ms/step - loss: 0.6796 - acc: 0.5481 - val_loss: 0.7066 - val_acc: 0.4950\n",
            "Epoch 8/10\n",
            "1600/1600 [==============================] - 6s 4ms/step - loss: 0.6759 - acc: 0.5713 - val_loss: 0.7086 - val_acc: 0.5200\n",
            "Epoch 9/10\n",
            "1600/1600 [==============================] - 6s 4ms/step - loss: 0.6640 - acc: 0.5944 - val_loss: 0.7091 - val_acc: 0.4975\n",
            "Epoch 10/10\n",
            "1600/1600 [==============================] - 6s 4ms/step - loss: 0.6679 - acc: 0.5863 - val_loss: 0.7088 - val_acc: 0.5025\n"
          ],
          "name": "stdout"
        }
      ]
    },
    {
      "metadata": {
        "id": "eXQev1ll55ll",
        "colab_type": "code",
        "colab": {
          "base_uri": "https://localhost:8080/",
          "height": 269
        },
        "outputId": "d1822754-7ab8-4348-cd69-54282289774f"
      },
      "cell_type": "code",
      "source": [
        "from keras.models import Sequential\n",
        "from keras.layers import Embedding, Flatten, Dense, LSTM, Bidirectional\n",
        "\n",
        "units = 32\n",
        "\n",
        "model = Sequential()\n",
        "model.add(Embedding(max_words, embedding_dim))\n",
        "model.add(Bidirectional(LSTM(units, dropout=0.5, recurrent_dropout=0.5)))\n",
        "model.add(Dense(1, activation='sigmoid'))\n",
        "model.summary()"
      ],
      "execution_count": 220,
      "outputs": [
        {
          "output_type": "stream",
          "text": [
            "_________________________________________________________________\n",
            "Layer (type)                 Output Shape              Param #   \n",
            "=================================================================\n",
            "embedding_15 (Embedding)     (None, None, 300)         3000000   \n",
            "_________________________________________________________________\n",
            "bidirectional_6 (Bidirection (None, 64)                85248     \n",
            "_________________________________________________________________\n",
            "dense_17 (Dense)             (None, 1)                 65        \n",
            "=================================================================\n",
            "Total params: 3,085,313\n",
            "Trainable params: 3,085,313\n",
            "Non-trainable params: 0\n",
            "_________________________________________________________________\n"
          ],
          "name": "stdout"
        }
      ]
    },
    {
      "metadata": {
        "id": "sgAKDMdfJWgG",
        "colab_type": "code",
        "colab": {}
      },
      "cell_type": "code",
      "source": [
        ""
      ],
      "execution_count": 0,
      "outputs": []
    },
    {
      "metadata": {
        "id": "2Gr45-R-6Uaj",
        "colab_type": "code",
        "colab": {}
      },
      "cell_type": "code",
      "source": [
        "model.layers[0].set_weights([embedding_matrix])\n",
        "model.layers[0].trainable = False"
      ],
      "execution_count": 0,
      "outputs": []
    },
    {
      "metadata": {
        "id": "ZVX-JXGy6Vn8",
        "colab_type": "code",
        "colab": {
          "base_uri": "https://localhost:8080/",
          "height": 443
        },
        "outputId": "a808fa3e-a309-464f-bc19-fc4c10e9ac5c"
      },
      "cell_type": "code",
      "source": [
        "model.compile(optimizer='rmsprop',\n",
        "              loss='binary_crossentropy',\n",
        "              metrics=['acc'])\n",
        "history = model.fit(x_train, y_train,\n",
        "                    epochs=10,\n",
        "                    batch_size=32,\n",
        "                    validation_data=(x_val, y_val))\n",
        "model.save(\"mymodel_bidirectional_with_dropout.h5\")"
      ],
      "execution_count": 222,
      "outputs": [
        {
          "output_type": "stream",
          "text": [
            "Train on 1600 samples, validate on 400 samples\n",
            "Epoch 1/10\n",
            "1600/1600 [==============================] - 15s 9ms/step - loss: 0.7094 - acc: 0.5188 - val_loss: 0.7002 - val_acc: 0.5300\n",
            "Epoch 2/10\n",
            "1600/1600 [==============================] - 10s 7ms/step - loss: 0.7035 - acc: 0.5225 - val_loss: 0.6926 - val_acc: 0.5350\n",
            "Epoch 3/10\n",
            "1600/1600 [==============================] - 10s 6ms/step - loss: 0.6988 - acc: 0.5200 - val_loss: 0.7008 - val_acc: 0.5250\n",
            "Epoch 4/10\n",
            "1600/1600 [==============================] - 10s 6ms/step - loss: 0.6934 - acc: 0.5294 - val_loss: 0.7011 - val_acc: 0.5050\n",
            "Epoch 5/10\n",
            "1600/1600 [==============================] - 10s 6ms/step - loss: 0.6923 - acc: 0.5262 - val_loss: 0.6877 - val_acc: 0.5400\n",
            "Epoch 6/10\n",
            "1600/1600 [==============================] - 10s 6ms/step - loss: 0.6794 - acc: 0.5613 - val_loss: 0.6933 - val_acc: 0.5325\n",
            "Epoch 7/10\n",
            "1600/1600 [==============================] - 10s 6ms/step - loss: 0.6736 - acc: 0.5731 - val_loss: 0.6939 - val_acc: 0.5175\n",
            "Epoch 8/10\n",
            "1600/1600 [==============================] - 10s 6ms/step - loss: 0.6784 - acc: 0.5700 - val_loss: 0.6979 - val_acc: 0.5175\n",
            "Epoch 9/10\n",
            "1600/1600 [==============================] - 10s 6ms/step - loss: 0.6699 - acc: 0.5825 - val_loss: 0.6920 - val_acc: 0.5400\n",
            "Epoch 10/10\n",
            "1600/1600 [==============================] - 10s 6ms/step - loss: 0.6623 - acc: 0.6031 - val_loss: 0.6964 - val_acc: 0.5375\n"
          ],
          "name": "stdout"
        }
      ]
    },
    {
      "metadata": {
        "id": "sCZTpq3R6dYz",
        "colab_type": "code",
        "colab": {
          "base_uri": "https://localhost:8080/",
          "height": 708
        },
        "outputId": "c7f4ad34-fdca-4cfc-ec0d-603c5ce6bb28"
      },
      "cell_type": "code",
      "source": [
        "import matplotlib.pyplot as plt\n",
        "\n",
        "acc = history.history['acc']\n",
        "val_acc = history.history['val_acc']\n",
        "loss = history.history['loss']\n",
        "val_loss = history.history['val_loss']\n",
        "\n",
        "epochs = range(1, len(acc) + 1)\n",
        "\n",
        "plt.plot(epochs, acc, 'bo', label='Training acc')\n",
        "plt.plot(epochs, val_acc, 'b', label='Validation acc')\n",
        "plt.title('Training and validation accuracy')\n",
        "plt.legend()\n",
        "\n",
        "plt.figure()\n",
        "\n",
        "plt.plot(epochs, loss, 'bo', label='Training loss')\n",
        "plt.plot(epochs, val_loss, 'b', label='Validation loss')\n",
        "plt.title('Training and validation loss')\n",
        "plt.legend()\n",
        "\n",
        "plt.show()"
      ],
      "execution_count": 223,
      "outputs": [
        {
          "output_type": "display_data",
          "data": {
            "image/png": "[encoded data removed]",
            "text/plain": [
              "<matplotlib.figure.Figure at 0x7f4b943a8278>"
            ]
          },
          "metadata": {
            "tags": []
          }
        },
        {
          "output_type": "display_data",
          "data": {
            "image/png": "[encoded data removed]",
            "text/plain": [
              "<matplotlib.figure.Figure at 0x7f4b94347c18>"
            ]
          },
          "metadata": {
            "tags": []
          }
        }
      ]
    },
    {
      "metadata": {
        "id": "NW1TFz7E2L2k",
        "colab_type": "code",
        "colab": {}
      },
      "cell_type": "code",
      "source": [
        "import keras.backend as K\n",
        "from keras.layers import Embedding, Flatten, Dense, Bidirectional, LSTM, Activation, RepeatVector, Permute\n",
        "from keras import Input\n",
        "from keras.models import Model"
      ],
      "execution_count": 0,
      "outputs": []
    },
    {
      "metadata": {
        "id": "SxPhLU7n4FAz",
        "colab_type": "code",
        "colab": {}
      },
      "cell_type": "code",
      "source": [
        "input_layer = Input(shape=[maxlen], dtype='int32')"
      ],
      "execution_count": 0,
      "outputs": []
    },
    {
      "metadata": {
        "id": "syP9f-xS4GgM",
        "colab_type": "code",
        "colab": {}
      },
      "cell_type": "code",
      "source": [
        "units = 32"
      ],
      "execution_count": 0,
      "outputs": []
    },
    {
      "metadata": {
        "id": "eOpb2fJa4JkZ",
        "colab_type": "code",
        "colab": {}
      },
      "cell_type": "code",
      "source": [
        "embedded = Embedding(\n",
        "        input_dim=max_words,\n",
        "        output_dim=embedding_dim,\n",
        "        input_length=maxlen\n",
        "    )(input_layer)"
      ],
      "execution_count": 0,
      "outputs": []
    },
    {
      "metadata": {
        "id": "NTWVT6m24J_x",
        "colab_type": "code",
        "colab": {}
      },
      "cell_type": "code",
      "source": [
        "activations = Bidirectional(LSTM(units, return_sequences=True, dropout=0.2, recurrent_dropout=0.2))(embedded)"
      ],
      "execution_count": 0,
      "outputs": []
    },
    {
      "metadata": {
        "id": "VKnwAkkS4LNH",
        "colab_type": "code",
        "colab": {}
      },
      "cell_type": "code",
      "source": [
        "attention = Dense(1, activation='tanh')(activations)\n",
        "attention = Flatten()(attention)\n",
        "attention = Activation('softmax')(attention)\n",
        "attention = RepeatVector(units*2)(attention)\n",
        "attention = Permute([2, 1])(attention)"
      ],
      "execution_count": 0,
      "outputs": []
    },
    {
      "metadata": {
        "id": "LIQBRvwK4MMn",
        "colab_type": "code",
        "colab": {}
      },
      "cell_type": "code",
      "source": [
        "from keras import layers"
      ],
      "execution_count": 0,
      "outputs": []
    },
    {
      "metadata": {
        "id": "zbG83wqS4NjE",
        "colab_type": "code",
        "colab": {}
      },
      "cell_type": "code",
      "source": [
        "sent_representation = layers.Multiply()([activations, attention])\n",
        "sent_representation = layers.Lambda(lambda xin: K.sum(xin, axis=-2), output_shape=(units*2,))(sent_representation)\n",
        "\n",
        "output_layer = Dense(1, activation='sigmoid')(sent_representation)"
      ],
      "execution_count": 0,
      "outputs": []
    },
    {
      "metadata": {
        "id": "j5v46syt4Opa",
        "colab_type": "code",
        "colab": {}
      },
      "cell_type": "code",
      "source": [
        "model = Model(input_layer, output_layer)"
      ],
      "execution_count": 0,
      "outputs": []
    },
    {
      "metadata": {
        "id": "u4Q79_t54QKq",
        "colab_type": "code",
        "colab": {
          "base_uri": "https://localhost:8080/",
          "height": 597
        },
        "outputId": "a2411384-20bb-4954-e31e-8630af36dca7"
      },
      "cell_type": "code",
      "source": [
        "model.summary()"
      ],
      "execution_count": 202,
      "outputs": [
        {
          "output_type": "stream",
          "text": [
            "__________________________________________________________________________________________________\n",
            "Layer (type)                    Output Shape         Param #     Connected to                     \n",
            "==================================================================================================\n",
            "input_2 (InputLayer)            (None, 100)          0                                            \n",
            "__________________________________________________________________________________________________\n",
            "embedding_12 (Embedding)        (None, 100, 300)     3000000     input_2[0][0]                    \n",
            "__________________________________________________________________________________________________\n",
            "bidirectional_4 (Bidirectional) (None, 100, 64)      85248       embedding_12[0][0]               \n",
            "__________________________________________________________________________________________________\n",
            "dense_13 (Dense)                (None, 100, 1)       65          bidirectional_4[0][0]            \n",
            "__________________________________________________________________________________________________\n",
            "flatten_3 (Flatten)             (None, 100)          0           dense_13[0][0]                   \n",
            "__________________________________________________________________________________________________\n",
            "activation_2 (Activation)       (None, 100)          0           flatten_3[0][0]                  \n",
            "__________________________________________________________________________________________________\n",
            "repeat_vector_2 (RepeatVector)  (None, 64, 100)      0           activation_2[0][0]               \n",
            "__________________________________________________________________________________________________\n",
            "permute_2 (Permute)             (None, 100, 64)      0           repeat_vector_2[0][0]            \n",
            "__________________________________________________________________________________________________\n",
            "multiply_2 (Multiply)           (None, 100, 64)      0           bidirectional_4[0][0]            \n",
            "                                                                 permute_2[0][0]                  \n",
            "__________________________________________________________________________________________________\n",
            "lambda_2 (Lambda)               (None, 64)           0           multiply_2[0][0]                 \n",
            "__________________________________________________________________________________________________\n",
            "dense_14 (Dense)                (None, 1)            65          lambda_2[0][0]                   \n",
            "==================================================================================================\n",
            "Total params: 3,085,378\n",
            "Trainable params: 3,085,378\n",
            "Non-trainable params: 0\n",
            "__________________________________________________________________________________________________\n"
          ],
          "name": "stdout"
        }
      ]
    },
    {
      "metadata": {
        "id": "pR9pAXQI4Q9D",
        "colab_type": "code",
        "colab": {}
      },
      "cell_type": "code",
      "source": [
        "model.layers[1].set_weights([embedding_matrix])\n",
        "model.layers[1].trainable = False"
      ],
      "execution_count": 0,
      "outputs": []
    },
    {
      "metadata": {
        "id": "PE6s0Mat4YyM",
        "colab_type": "code",
        "colab": {}
      },
      "cell_type": "code",
      "source": [
        "import keras"
      ],
      "execution_count": 0,
      "outputs": []
    },
    {
      "metadata": {
        "id": "XlQLE9pN4Xpf",
        "colab_type": "code",
        "colab": {}
      },
      "cell_type": "code",
      "source": [
        "callbacks = [keras.callbacks.TensorBoard(log_dir='./logs', histogram_freq=0, batch_size=32, write_graph=True, write_grads=False, write_images=False, embeddings_freq=0, embeddings_layer_names=None, embeddings_metadata=None, embeddings_data=None, update_freq='epoch')]"
      ],
      "execution_count": 0,
      "outputs": []
    },
    {
      "metadata": {
        "id": "t3hxeUQ44Stx",
        "colab_type": "code",
        "colab": {
          "base_uri": "https://localhost:8080/",
          "height": 830
        },
        "outputId": "1073703f-83be-4546-df4a-d9070fc8bf0a"
      },
      "cell_type": "code",
      "source": [
        "model.compile(optimizer='rmsprop',\n",
        "              loss='binary_crossentropy',\n",
        "              metrics=['acc'])\n",
        "history = model.fit(x_train, y_train,\n",
        "                    epochs=20,\n",
        "                    batch_size=32,\n",
        "                    validation_data=(x_val, y_val),\n",
        "                   callbacks=callbacks)"
      ],
      "execution_count": 206,
      "outputs": [
        {
          "output_type": "stream",
          "text": [
            "Train on 1600 samples, validate on 400 samples\n",
            "Epoch 1/20\n",
            "1600/1600 [==============================] - 14s 9ms/step - loss: 0.7069 - acc: 0.5012 - val_loss: 0.6955 - val_acc: 0.5125\n",
            "Epoch 2/20\n",
            "1600/1600 [==============================] - 11s 7ms/step - loss: 0.6958 - acc: 0.5156 - val_loss: 0.7194 - val_acc: 0.5125\n",
            "Epoch 3/20\n",
            "1600/1600 [==============================] - 11s 7ms/step - loss: 0.6946 - acc: 0.5219 - val_loss: 0.7044 - val_acc: 0.5125\n",
            "Epoch 4/20\n",
            "1600/1600 [==============================] - 11s 7ms/step - loss: 0.6955 - acc: 0.4919 - val_loss: 0.6961 - val_acc: 0.4825\n",
            "Epoch 5/20\n",
            "1600/1600 [==============================] - 11s 7ms/step - loss: 0.6947 - acc: 0.5125 - val_loss: 0.6942 - val_acc: 0.5150\n",
            "Epoch 6/20\n",
            "1600/1600 [==============================] - 11s 7ms/step - loss: 0.6928 - acc: 0.5138 - val_loss: 0.6943 - val_acc: 0.4850\n",
            "Epoch 7/20\n",
            "1600/1600 [==============================] - 11s 7ms/step - loss: 0.6906 - acc: 0.5444 - val_loss: 0.6990 - val_acc: 0.4900\n",
            "Epoch 8/20\n",
            "1600/1600 [==============================] - 11s 7ms/step - loss: 0.6909 - acc: 0.5256 - val_loss: 0.6962 - val_acc: 0.4950\n",
            "Epoch 9/20\n",
            "1600/1600 [==============================] - 11s 7ms/step - loss: 0.6895 - acc: 0.5400 - val_loss: 0.6976 - val_acc: 0.4700\n",
            "Epoch 10/20\n",
            "1600/1600 [==============================] - 11s 7ms/step - loss: 0.6877 - acc: 0.5369 - val_loss: 0.7002 - val_acc: 0.5025\n",
            "Epoch 11/20\n",
            "1600/1600 [==============================] - 11s 7ms/step - loss: 0.6853 - acc: 0.5469 - val_loss: 0.7051 - val_acc: 0.4775\n",
            "Epoch 12/20\n",
            "1600/1600 [==============================] - 11s 7ms/step - loss: 0.6836 - acc: 0.5425 - val_loss: 0.7094 - val_acc: 0.4750\n",
            "Epoch 13/20\n",
            "1600/1600 [==============================] - 11s 7ms/step - loss: 0.6800 - acc: 0.5587 - val_loss: 0.7100 - val_acc: 0.4725\n",
            "Epoch 14/20\n",
            "1600/1600 [==============================] - 11s 7ms/step - loss: 0.6795 - acc: 0.5606 - val_loss: 0.7075 - val_acc: 0.4750\n",
            "Epoch 15/20\n",
            "1600/1600 [==============================] - 11s 7ms/step - loss: 0.6707 - acc: 0.5719 - val_loss: 0.7178 - val_acc: 0.4975\n",
            "Epoch 16/20\n",
            "1600/1600 [==============================] - 11s 7ms/step - loss: 0.6682 - acc: 0.5938 - val_loss: 0.7265 - val_acc: 0.5025\n",
            "Epoch 17/20\n",
            "1600/1600 [==============================] - 11s 7ms/step - loss: 0.6702 - acc: 0.5881 - val_loss: 0.7447 - val_acc: 0.4675\n",
            "Epoch 18/20\n",
            "1600/1600 [==============================] - 11s 7ms/step - loss: 0.6671 - acc: 0.5950 - val_loss: 0.7364 - val_acc: 0.4700\n",
            "Epoch 19/20\n",
            "1600/1600 [==============================] - 11s 7ms/step - loss: 0.6609 - acc: 0.5969 - val_loss: 0.7370 - val_acc: 0.4775\n",
            "Epoch 20/20\n",
            "1600/1600 [==============================] - 11s 7ms/step - loss: 0.6484 - acc: 0.6112 - val_loss: 0.7279 - val_acc: 0.5125\n"
          ],
          "name": "stdout"
        }
      ]
    },
    {
      "metadata": {
        "id": "GAkTdgPk4VOD",
        "colab_type": "code",
        "colab": {
          "base_uri": "https://localhost:8080/",
          "height": 708
        },
        "outputId": "c4ba2867-2cb1-4a49-9000-875af6e28159"
      },
      "cell_type": "code",
      "source": [
        "import matplotlib.pyplot as plt\n",
        "\n",
        "acc = history.history['acc']\n",
        "val_acc = history.history['val_acc']\n",
        "loss = history.history['loss']\n",
        "val_loss = history.history['val_loss']\n",
        "\n",
        "epochs = range(1, len(acc) + 1)\n",
        "\n",
        "plt.plot(epochs, acc, 'bo', label='Training acc')\n",
        "plt.plot(epochs, val_acc, 'b', label='Validation acc')\n",
        "plt.title('Training and validation accuracy')\n",
        "plt.legend()\n",
        "\n",
        "plt.figure()\n",
        "\n",
        "plt.plot(epochs, loss, 'bo', label='Training loss')\n",
        "plt.plot(epochs, val_loss, 'b', label='Validation loss')\n",
        "plt.title('Training and validation loss')\n",
        "plt.legend()\n",
        "\n",
        "plt.show()"
      ],
      "execution_count": 207,
      "outputs": [
        {
          "output_type": "display_data",
          "data": {
            "image/png": "[encoded data removed]",
            "text/plain": [
              "<matplotlib.figure.Figure at 0x7f4b976f9ef0>"
            ]
          },
          "metadata": {
            "tags": []
          }
        },
        {
          "output_type": "display_data",
          "data": {
            "image/png": "[encoded data removed]",
            "text/plain": [
              "<matplotlib.figure.Figure at 0x7f4b96a00470>"
            ]
          },
          "metadata": {
            "tags": []
          }
        }
      ]
    },
    {
      "metadata": {
        "id": "vshnw6sJ5I90",
        "colab_type": "code",
        "colab": {}
      },
      "cell_type": "code",
      "source": [
        ""
      ],
      "execution_count": 0,
      "outputs": []
    }
  ]
}